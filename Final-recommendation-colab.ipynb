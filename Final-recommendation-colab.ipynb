{
  "cells": [
    {
      "cell_type": "code",
      "execution_count": 3,
      "metadata": {
        "trusted": true
      },
      "outputs": [
        {
          "data": {
            "text/html": [
              "<div>\n",
              "<style scoped>\n",
              "    .dataframe tbody tr th:only-of-type {\n",
              "        vertical-align: middle;\n",
              "    }\n",
              "\n",
              "    .dataframe tbody tr th {\n",
              "        vertical-align: top;\n",
              "    }\n",
              "\n",
              "    .dataframe thead th {\n",
              "        text-align: right;\n",
              "    }\n",
              "</style>\n",
              "<table border=\"1\" class=\"dataframe\">\n",
              "  <thead>\n",
              "    <tr style=\"text-align: right;\">\n",
              "      <th></th>\n",
              "      <th>user_id</th>\n",
              "      <th>food_id</th>\n",
              "      <th>rating</th>\n",
              "    </tr>\n",
              "  </thead>\n",
              "  <tbody>\n",
              "    <tr>\n",
              "      <th>0</th>\n",
              "      <td>502</td>\n",
              "      <td>2898</td>\n",
              "      <td>0</td>\n",
              "    </tr>\n",
              "    <tr>\n",
              "      <th>1</th>\n",
              "      <td>502</td>\n",
              "      <td>2431</td>\n",
              "      <td>0</td>\n",
              "    </tr>\n",
              "    <tr>\n",
              "      <th>2</th>\n",
              "      <td>502</td>\n",
              "      <td>3181</td>\n",
              "      <td>0</td>\n",
              "    </tr>\n",
              "    <tr>\n",
              "      <th>3</th>\n",
              "      <td>502</td>\n",
              "      <td>3077</td>\n",
              "      <td>0</td>\n",
              "    </tr>\n",
              "    <tr>\n",
              "      <th>4</th>\n",
              "      <td>502</td>\n",
              "      <td>2329</td>\n",
              "      <td>0</td>\n",
              "    </tr>\n",
              "    <tr>\n",
              "      <th>...</th>\n",
              "      <td>...</td>\n",
              "      <td>...</td>\n",
              "      <td>...</td>\n",
              "    </tr>\n",
              "    <tr>\n",
              "      <th>6593</th>\n",
              "      <td>248</td>\n",
              "      <td>1930</td>\n",
              "      <td>0</td>\n",
              "    </tr>\n",
              "    <tr>\n",
              "      <th>6594</th>\n",
              "      <td>248</td>\n",
              "      <td>3208</td>\n",
              "      <td>0</td>\n",
              "    </tr>\n",
              "    <tr>\n",
              "      <th>6595</th>\n",
              "      <td>248</td>\n",
              "      <td>2956</td>\n",
              "      <td>0</td>\n",
              "    </tr>\n",
              "    <tr>\n",
              "      <th>6596</th>\n",
              "      <td>248</td>\n",
              "      <td>3368</td>\n",
              "      <td>0</td>\n",
              "    </tr>\n",
              "    <tr>\n",
              "      <th>6597</th>\n",
              "      <td>248</td>\n",
              "      <td>2907</td>\n",
              "      <td>0</td>\n",
              "    </tr>\n",
              "  </tbody>\n",
              "</table>\n",
              "<p>6598 rows × 3 columns</p>\n",
              "</div>"
            ],
            "text/plain": [
              "      user_id  food_id  rating\n",
              "0         502     2898       0\n",
              "1         502     2431       0\n",
              "2         502     3181       0\n",
              "3         502     3077       0\n",
              "4         502     2329       0\n",
              "...       ...      ...     ...\n",
              "6593      248     1930       0\n",
              "6594      248     3208       0\n",
              "6595      248     2956       0\n",
              "6596      248     3368       0\n",
              "6597      248     2907       0\n",
              "\n",
              "[6598 rows x 3 columns]"
            ]
          },
          "execution_count": 3,
          "metadata": {},
          "output_type": "execute_result"
        }
      ],
      "source": [
        "import pandas as pd\n",
        "# Read the CSV file into a DataFrame\n",
        "ratings = pd.read_csv('ratings.csv')\n",
        "\n",
        "# Display the resulting DataFrame\n",
        "ratings[['user_id', 'food_id', 'rating']]\n"
      ]
    },
    {
      "cell_type": "code",
      "execution_count": 4,
      "metadata": {
        "trusted": true
      },
      "outputs": [],
      "source": [
        "users = pd.read_csv('Dataset of Diabetes .csv')\n",
        "food = pd.read_csv('food_data_modified.csv')"
      ]
    },
    {
      "cell_type": "code",
      "execution_count": 5,
      "metadata": {
        "trusted": true
      },
      "outputs": [
        {
          "name": "stdout",
          "output_type": "stream",
          "text": [
            "(1000, 14)\n",
            "(6598, 3)\n",
            "(2617, 11)\n"
          ]
        }
      ],
      "source": [
        "print(users.shape)\n",
        "print(ratings.shape)\n",
        "print(food.shape)"
      ]
    },
    {
      "cell_type": "code",
      "execution_count": 6,
      "metadata": {
        "trusted": true
      },
      "outputs": [
        {
          "data": {
            "text/html": [
              "<div>\n",
              "<style scoped>\n",
              "    .dataframe tbody tr th:only-of-type {\n",
              "        vertical-align: middle;\n",
              "    }\n",
              "\n",
              "    .dataframe tbody tr th {\n",
              "        vertical-align: top;\n",
              "    }\n",
              "\n",
              "    .dataframe thead th {\n",
              "        text-align: right;\n",
              "    }\n",
              "</style>\n",
              "<table border=\"1\" class=\"dataframe\">\n",
              "  <thead>\n",
              "    <tr style=\"text-align: right;\">\n",
              "      <th></th>\n",
              "      <th>user_id</th>\n",
              "      <th>food_id</th>\n",
              "      <th>rating</th>\n",
              "    </tr>\n",
              "  </thead>\n",
              "  <tbody>\n",
              "    <tr>\n",
              "      <th>0</th>\n",
              "      <td>502</td>\n",
              "      <td>2898</td>\n",
              "      <td>1</td>\n",
              "    </tr>\n",
              "    <tr>\n",
              "      <th>1</th>\n",
              "      <td>502</td>\n",
              "      <td>2431</td>\n",
              "      <td>7</td>\n",
              "    </tr>\n",
              "    <tr>\n",
              "      <th>2</th>\n",
              "      <td>502</td>\n",
              "      <td>3181</td>\n",
              "      <td>5</td>\n",
              "    </tr>\n",
              "    <tr>\n",
              "      <th>3</th>\n",
              "      <td>502</td>\n",
              "      <td>3077</td>\n",
              "      <td>9</td>\n",
              "    </tr>\n",
              "    <tr>\n",
              "      <th>4</th>\n",
              "      <td>502</td>\n",
              "      <td>2329</td>\n",
              "      <td>1</td>\n",
              "    </tr>\n",
              "    <tr>\n",
              "      <th>...</th>\n",
              "      <td>...</td>\n",
              "      <td>...</td>\n",
              "      <td>...</td>\n",
              "    </tr>\n",
              "    <tr>\n",
              "      <th>6593</th>\n",
              "      <td>248</td>\n",
              "      <td>1930</td>\n",
              "      <td>5</td>\n",
              "    </tr>\n",
              "    <tr>\n",
              "      <th>6594</th>\n",
              "      <td>248</td>\n",
              "      <td>3208</td>\n",
              "      <td>10</td>\n",
              "    </tr>\n",
              "    <tr>\n",
              "      <th>6595</th>\n",
              "      <td>248</td>\n",
              "      <td>2956</td>\n",
              "      <td>4</td>\n",
              "    </tr>\n",
              "    <tr>\n",
              "      <th>6596</th>\n",
              "      <td>248</td>\n",
              "      <td>3368</td>\n",
              "      <td>1</td>\n",
              "    </tr>\n",
              "    <tr>\n",
              "      <th>6597</th>\n",
              "      <td>248</td>\n",
              "      <td>2907</td>\n",
              "      <td>5</td>\n",
              "    </tr>\n",
              "  </tbody>\n",
              "</table>\n",
              "<p>6598 rows × 3 columns</p>\n",
              "</div>"
            ],
            "text/plain": [
              "      user_id  food_id  rating\n",
              "0         502     2898       1\n",
              "1         502     2431       7\n",
              "2         502     3181       5\n",
              "3         502     3077       9\n",
              "4         502     2329       1\n",
              "...       ...      ...     ...\n",
              "6593      248     1930       5\n",
              "6594      248     3208      10\n",
              "6595      248     2956       4\n",
              "6596      248     3368       1\n",
              "6597      248     2907       5\n",
              "\n",
              "[6598 rows x 3 columns]"
            ]
          },
          "execution_count": 6,
          "metadata": {},
          "output_type": "execute_result"
        }
      ],
      "source": [
        "import numpy as np\n",
        "ratings['rating'] = np.random.randint(1, 11, size=len(ratings));\n",
        "ratings[['user_id', 'food_id', 'rating']]\n"
      ]
    },
    {
      "cell_type": "code",
      "execution_count": 7,
      "metadata": {
        "trusted": true
      },
      "outputs": [
        {
          "data": {
            "text/plain": [
              "ID           0\n",
              "No_Pation    0\n",
              "Gender       0\n",
              "AGE          0\n",
              "Urea         0\n",
              "Cr           0\n",
              "HbA1c        0\n",
              "Chol         0\n",
              "TG           0\n",
              "HDL          0\n",
              "LDL          0\n",
              "VLDL         0\n",
              "BMI          0\n",
              "CLASS        0\n",
              "dtype: int64"
            ]
          },
          "execution_count": 7,
          "metadata": {},
          "output_type": "execute_result"
        }
      ],
      "source": [
        "users.isnull().sum()"
      ]
    },
    {
      "cell_type": "code",
      "execution_count": 8,
      "metadata": {
        "trusted": true
      },
      "outputs": [
        {
          "data": {
            "text/plain": [
              "0"
            ]
          },
          "execution_count": 8,
          "metadata": {},
          "output_type": "execute_result"
        }
      ],
      "source": [
        "ratings.duplicated().sum()\n"
      ]
    },
    {
      "cell_type": "code",
      "execution_count": 9,
      "metadata": {
        "trusted": true
      },
      "outputs": [
        {
          "data": {
            "text/plain": [
              "0"
            ]
          },
          "execution_count": 9,
          "metadata": {},
          "output_type": "execute_result"
        }
      ],
      "source": [
        "# Drop duplicate rows based on all columns\n",
        "food = food.drop_duplicates()\n",
        "# Display the resulting DataFrame without duplicates\n",
        "food.duplicated().sum()"
      ]
    },
    {
      "cell_type": "code",
      "execution_count": 10,
      "metadata": {
        "trusted": true
      },
      "outputs": [
        {
          "name": "stdout",
          "output_type": "stream",
          "text": [
            "Index(['id', 'title', 'imageSrc', 'url', 'cookTime', 'carbohydrates', 'fat',\n",
            "       'protein', 'calories', 'like', 'dislike'],\n",
            "      dtype='object')\n",
            "Index(['user_id', 'food_id', 'rating'], dtype='object')\n",
            "Index(['ID', 'No_Pation', 'Gender', 'AGE', 'Urea', 'Cr', 'HbA1c', 'Chol', 'TG',\n",
            "       'HDL', 'LDL', 'VLDL', 'BMI', 'CLASS'],\n",
            "      dtype='object')\n"
          ]
        }
      ],
      "source": [
        "print(food.columns)\n",
        "print(ratings.columns)\n",
        "print(users.columns)"
      ]
    },
    {
      "cell_type": "code",
      "execution_count": 11,
      "metadata": {
        "trusted": true
      },
      "outputs": [
        {
          "name": "stdout",
          "output_type": "stream",
          "text": [
            "       ID  foodId  star\n",
            "0     502    2898     1\n",
            "1     502    2431     7\n",
            "2     502    3181     5\n",
            "3     502    3077     9\n",
            "4     502    2329     1\n",
            "...   ...     ...   ...\n",
            "6593  248    1930     5\n",
            "6594  248    3208    10\n",
            "6595  248    2956     4\n",
            "6596  248    3368     1\n",
            "6597  248    2907     5\n",
            "\n",
            "[6598 rows x 3 columns]\n"
          ]
        }
      ],
      "source": [
        "# Rename a specific column (e.g., 'old_column_name' to 'new_column_name')\n",
        "ratings.rename(columns={'food_id': 'foodId'}, inplace=True)\n",
        "ratings.rename(columns={'rating': 'star'}, inplace=True)\n",
        "ratings.rename(columns={'user_id': 'ID'}, inplace=True)\n",
        "print(ratings)"
      ]
    },
    {
      "cell_type": "code",
      "execution_count": 12,
      "metadata": {
        "trusted": true
      },
      "outputs": [
        {
          "data": {
            "text/plain": [
              "Index(['foodId', 'title', 'imageSrc', 'url', 'cookTime', 'carbohydrates',\n",
              "       'fat', 'protein', 'calories', 'like', 'dislike'],\n",
              "      dtype='object')"
            ]
          },
          "execution_count": 12,
          "metadata": {},
          "output_type": "execute_result"
        }
      ],
      "source": [
        "food.rename(columns={'id':'foodId'}, inplace=True)\n",
        "food.columns"
      ]
    },
    {
      "cell_type": "code",
      "execution_count": 13,
      "metadata": {
        "trusted": true
      },
      "outputs": [
        {
          "name": "stdout",
          "output_type": "stream",
          "text": [
            "       ID  foodId  star                                           title  \\\n",
            "0     502    2898     1                      Zanahorias pequeñas asadas   \n",
            "1     102    2898     2                      Zanahorias pequeñas asadas   \n",
            "2     401    2898    10                      Zanahorias pequeñas asadas   \n",
            "3     579    2898     7                      Zanahorias pequeñas asadas   \n",
            "4      94    2898     2                      Zanahorias pequeñas asadas   \n",
            "...   ...     ...   ...                                             ...   \n",
            "6593  192    2067     8  Arugula & Prosciutto Pizza with Zucchini Crust   \n",
            "6594  193    2301     8                     Frittata de jamón y brócoli   \n",
            "6595  198     328     8                         Japanese Cucumber Salad   \n",
            "6596   99    2049     2                         Quick & Easy Cheese Dip   \n",
            "6597  248    2907     5                             Tabbouleh de quinoa   \n",
            "\n",
            "                                               imageSrc  \\\n",
            "0     https://static.diabetesfoodhub.org/system/thum...   \n",
            "1     https://static.diabetesfoodhub.org/system/thum...   \n",
            "2     https://static.diabetesfoodhub.org/system/thum...   \n",
            "3     https://static.diabetesfoodhub.org/system/thum...   \n",
            "4     https://static.diabetesfoodhub.org/system/thum...   \n",
            "...                                                 ...   \n",
            "6593  https://static.diabetesfoodhub.org/system/thum...   \n",
            "6594  https://static.diabetesfoodhub.org/system/thum...   \n",
            "6595  https://static.diabetesfoodhub.org/system/thum...   \n",
            "6596  https://static.diabetesfoodhub.org/system/thum...   \n",
            "6597  https://static.diabetesfoodhub.org/system/thum...   \n",
            "\n",
            "                                                    url cookTime  \\\n",
            "0     https://www.diabetesfoodhub.org/recipes/zanaho...   20 min   \n",
            "1     https://www.diabetesfoodhub.org/recipes/zanaho...   20 min   \n",
            "2     https://www.diabetesfoodhub.org/recipes/zanaho...   20 min   \n",
            "3     https://www.diabetesfoodhub.org/recipes/zanaho...   20 min   \n",
            "4     https://www.diabetesfoodhub.org/recipes/zanaho...   20 min   \n",
            "...                                                 ...      ...   \n",
            "6593  https://www.diabetesfoodhub.org/recipes/arugul...   12 min   \n",
            "6594  https://www.diabetesfoodhub.org/recipes/fritta...   25 min   \n",
            "6595  https://www.diabetesfoodhub.org/recipes/japane...      NaN   \n",
            "6596  https://www.diabetesfoodhub.org/recipes/quick-...      NaN   \n",
            "6597  https://www.diabetesfoodhub.org/recipes/tabbou...      NaN   \n",
            "\n",
            "      carbohydrates  fat  protein  calories  like  dislike  \n",
            "0               8.0  2.5      0.0      50.0   0.0      0.0  \n",
            "1               8.0  2.5      0.0      50.0   0.0      0.0  \n",
            "2               8.0  2.5      0.0      50.0   0.0      0.0  \n",
            "3               8.0  2.5      0.0      50.0   0.0      0.0  \n",
            "4               8.0  2.5      0.0      50.0   0.0      0.0  \n",
            "...             ...  ...      ...       ...   ...      ...  \n",
            "6593            6.0  6.0      7.0     100.0   3.0      1.0  \n",
            "6594           14.0  6.0      0.0     170.0   1.0      0.0  \n",
            "6595            8.0  9.0      1.0     120.0   0.0      1.0  \n",
            "6596            3.0  5.0      4.0      80.0   5.0      1.0  \n",
            "6597           24.0  4.5      0.0     150.0   0.0      0.0  \n",
            "\n",
            "[6598 rows x 13 columns]\n"
          ]
        }
      ],
      "source": [
        "ratings_merged_food=ratings.merge(food, on='foodId')\n",
        "print(ratings_merged_food)"
      ]
    },
    {
      "cell_type": "code",
      "execution_count": 14,
      "metadata": {
        "trusted": true
      },
      "outputs": [
        {
          "data": {
            "text/plain": [
              "Index(['ID', 'foodId', 'star', 'title', 'imageSrc', 'url', 'cookTime',\n",
              "       'carbohydrates', 'fat', 'protein', 'calories', 'like', 'dislike'],\n",
              "      dtype='object')"
            ]
          },
          "execution_count": 14,
          "metadata": {},
          "output_type": "execute_result"
        }
      ],
      "source": [
        "ratings_merged_food.columns"
      ]
    },
    {
      "cell_type": "code",
      "execution_count": 15,
      "metadata": {
        "trusted": true
      },
      "outputs": [
        {
          "name": "stdout",
          "output_type": "stream",
          "text": [
            "       ID  foodId  star                                           title  \\\n",
            "0     502    2898     1                      Zanahorias pequeñas asadas   \n",
            "1     102    2898     2                      Zanahorias pequeñas asadas   \n",
            "2     401    2898    10                      Zanahorias pequeñas asadas   \n",
            "3     579    2898     7                      Zanahorias pequeñas asadas   \n",
            "4      94    2898     2                      Zanahorias pequeñas asadas   \n",
            "...   ...     ...   ...                                             ...   \n",
            "6593  192    2067     8  Arugula & Prosciutto Pizza with Zucchini Crust   \n",
            "6594  193    2301     8                     Frittata de jamón y brócoli   \n",
            "6595  198     328     8                         Japanese Cucumber Salad   \n",
            "6596   99    2049     2                         Quick & Easy Cheese Dip   \n",
            "6597  248    2907     5                             Tabbouleh de quinoa   \n",
            "\n",
            "      carbohydrates  fat  protein  calories  \n",
            "0               8.0  2.5      0.0      50.0  \n",
            "1               8.0  2.5      0.0      50.0  \n",
            "2               8.0  2.5      0.0      50.0  \n",
            "3               8.0  2.5      0.0      50.0  \n",
            "4               8.0  2.5      0.0      50.0  \n",
            "...             ...  ...      ...       ...  \n",
            "6593            6.0  6.0      7.0     100.0  \n",
            "6594           14.0  6.0      0.0     170.0  \n",
            "6595            8.0  9.0      1.0     120.0  \n",
            "6596            3.0  5.0      4.0      80.0  \n",
            "6597           24.0  4.5      0.0     150.0  \n",
            "\n",
            "[6598 rows x 8 columns]\n"
          ]
        }
      ],
      "source": [
        "columns_to_drop = ['imageSrc', 'cookTime', 'url', 'like', 'dislike']\n",
        "ratings_merged_food = ratings_merged_food.drop(columns_to_drop, axis=1)\n",
        "print(ratings_merged_food)"
      ]
    },
    {
      "cell_type": "code",
      "execution_count": 16,
      "metadata": {
        "scrolled": true,
        "trusted": true
      },
      "outputs": [
        {
          "data": {
            "text/html": [
              "<div>\n",
              "<style scoped>\n",
              "    .dataframe tbody tr th:only-of-type {\n",
              "        vertical-align: middle;\n",
              "    }\n",
              "\n",
              "    .dataframe tbody tr th {\n",
              "        vertical-align: top;\n",
              "    }\n",
              "\n",
              "    .dataframe thead th {\n",
              "        text-align: right;\n",
              "    }\n",
              "</style>\n",
              "<table border=\"1\" class=\"dataframe\">\n",
              "  <thead>\n",
              "    <tr style=\"text-align: right;\">\n",
              "      <th>ID</th>\n",
              "      <th>1</th>\n",
              "      <th>2</th>\n",
              "      <th>3</th>\n",
              "      <th>4</th>\n",
              "      <th>5</th>\n",
              "      <th>6</th>\n",
              "      <th>7</th>\n",
              "      <th>8</th>\n",
              "      <th>9</th>\n",
              "      <th>10</th>\n",
              "      <th>...</th>\n",
              "      <th>791</th>\n",
              "      <th>792</th>\n",
              "      <th>793</th>\n",
              "      <th>794</th>\n",
              "      <th>795</th>\n",
              "      <th>796</th>\n",
              "      <th>797</th>\n",
              "      <th>798</th>\n",
              "      <th>799</th>\n",
              "      <th>800</th>\n",
              "    </tr>\n",
              "    <tr>\n",
              "      <th>title</th>\n",
              "      <th></th>\n",
              "      <th></th>\n",
              "      <th></th>\n",
              "      <th></th>\n",
              "      <th></th>\n",
              "      <th></th>\n",
              "      <th></th>\n",
              "      <th></th>\n",
              "      <th></th>\n",
              "      <th></th>\n",
              "      <th></th>\n",
              "      <th></th>\n",
              "      <th></th>\n",
              "      <th></th>\n",
              "      <th></th>\n",
              "      <th></th>\n",
              "      <th></th>\n",
              "      <th></th>\n",
              "      <th></th>\n",
              "      <th></th>\n",
              "      <th></th>\n",
              "    </tr>\n",
              "  </thead>\n",
              "  <tbody>\n",
              "    <tr>\n",
              "      <th>\"Alas\" sin hueso a la Barbacoa</th>\n",
              "      <td>0.0</td>\n",
              "      <td>0.0</td>\n",
              "      <td>0.0</td>\n",
              "      <td>0.0</td>\n",
              "      <td>0.0</td>\n",
              "      <td>0.0</td>\n",
              "      <td>0.0</td>\n",
              "      <td>0.0</td>\n",
              "      <td>0.0</td>\n",
              "      <td>0.0</td>\n",
              "      <td>...</td>\n",
              "      <td>0.0</td>\n",
              "      <td>0.0</td>\n",
              "      <td>0.0</td>\n",
              "      <td>0.0</td>\n",
              "      <td>0.0</td>\n",
              "      <td>0.0</td>\n",
              "      <td>0.0</td>\n",
              "      <td>0.0</td>\n",
              "      <td>0.0</td>\n",
              "      <td>0.0</td>\n",
              "    </tr>\n",
              "    <tr>\n",
              "      <th>\"Arroz frito\" de Vegetales y Freekeh con Pimientos Shishito y Cacahuates</th>\n",
              "      <td>0.0</td>\n",
              "      <td>0.0</td>\n",
              "      <td>0.0</td>\n",
              "      <td>0.0</td>\n",
              "      <td>0.0</td>\n",
              "      <td>0.0</td>\n",
              "      <td>0.0</td>\n",
              "      <td>0.0</td>\n",
              "      <td>0.0</td>\n",
              "      <td>0.0</td>\n",
              "      <td>...</td>\n",
              "      <td>0.0</td>\n",
              "      <td>0.0</td>\n",
              "      <td>0.0</td>\n",
              "      <td>3.0</td>\n",
              "      <td>0.0</td>\n",
              "      <td>0.0</td>\n",
              "      <td>0.0</td>\n",
              "      <td>0.0</td>\n",
              "      <td>0.0</td>\n",
              "      <td>0.0</td>\n",
              "    </tr>\n",
              "    <tr>\n",
              "      <th>\"Arroz\" frito de Coliflor</th>\n",
              "      <td>0.0</td>\n",
              "      <td>0.0</td>\n",
              "      <td>0.0</td>\n",
              "      <td>0.0</td>\n",
              "      <td>0.0</td>\n",
              "      <td>0.0</td>\n",
              "      <td>0.0</td>\n",
              "      <td>0.0</td>\n",
              "      <td>0.0</td>\n",
              "      <td>0.0</td>\n",
              "      <td>...</td>\n",
              "      <td>0.0</td>\n",
              "      <td>0.0</td>\n",
              "      <td>0.0</td>\n",
              "      <td>0.0</td>\n",
              "      <td>0.0</td>\n",
              "      <td>0.0</td>\n",
              "      <td>0.0</td>\n",
              "      <td>0.0</td>\n",
              "      <td>0.0</td>\n",
              "      <td>0.0</td>\n",
              "    </tr>\n",
              "    <tr>\n",
              "      <th>\"Batatas\" Fritas</th>\n",
              "      <td>0.0</td>\n",
              "      <td>0.0</td>\n",
              "      <td>0.0</td>\n",
              "      <td>0.0</td>\n",
              "      <td>0.0</td>\n",
              "      <td>0.0</td>\n",
              "      <td>0.0</td>\n",
              "      <td>0.0</td>\n",
              "      <td>0.0</td>\n",
              "      <td>0.0</td>\n",
              "      <td>...</td>\n",
              "      <td>0.0</td>\n",
              "      <td>0.0</td>\n",
              "      <td>0.0</td>\n",
              "      <td>0.0</td>\n",
              "      <td>0.0</td>\n",
              "      <td>0.0</td>\n",
              "      <td>0.0</td>\n",
              "      <td>0.0</td>\n",
              "      <td>0.0</td>\n",
              "      <td>0.0</td>\n",
              "    </tr>\n",
              "    <tr>\n",
              "      <th>\"Emparedado\" Abierto de Batatas</th>\n",
              "      <td>0.0</td>\n",
              "      <td>0.0</td>\n",
              "      <td>0.0</td>\n",
              "      <td>0.0</td>\n",
              "      <td>0.0</td>\n",
              "      <td>0.0</td>\n",
              "      <td>0.0</td>\n",
              "      <td>0.0</td>\n",
              "      <td>0.0</td>\n",
              "      <td>0.0</td>\n",
              "      <td>...</td>\n",
              "      <td>0.0</td>\n",
              "      <td>0.0</td>\n",
              "      <td>0.0</td>\n",
              "      <td>0.0</td>\n",
              "      <td>0.0</td>\n",
              "      <td>0.0</td>\n",
              "      <td>0.0</td>\n",
              "      <td>0.0</td>\n",
              "      <td>0.0</td>\n",
              "      <td>0.0</td>\n",
              "    </tr>\n",
              "    <tr>\n",
              "      <th>...</th>\n",
              "      <td>...</td>\n",
              "      <td>...</td>\n",
              "      <td>...</td>\n",
              "      <td>...</td>\n",
              "      <td>...</td>\n",
              "      <td>...</td>\n",
              "      <td>...</td>\n",
              "      <td>...</td>\n",
              "      <td>...</td>\n",
              "      <td>...</td>\n",
              "      <td>...</td>\n",
              "      <td>...</td>\n",
              "      <td>...</td>\n",
              "      <td>...</td>\n",
              "      <td>...</td>\n",
              "      <td>...</td>\n",
              "      <td>...</td>\n",
              "      <td>...</td>\n",
              "      <td>...</td>\n",
              "      <td>...</td>\n",
              "      <td>...</td>\n",
              "    </tr>\n",
              "    <tr>\n",
              "      <th>Zuppa Toscana with Cauliflower and Kale</th>\n",
              "      <td>0.0</td>\n",
              "      <td>0.0</td>\n",
              "      <td>0.0</td>\n",
              "      <td>0.0</td>\n",
              "      <td>0.0</td>\n",
              "      <td>0.0</td>\n",
              "      <td>0.0</td>\n",
              "      <td>0.0</td>\n",
              "      <td>0.0</td>\n",
              "      <td>0.0</td>\n",
              "      <td>...</td>\n",
              "      <td>0.0</td>\n",
              "      <td>0.0</td>\n",
              "      <td>0.0</td>\n",
              "      <td>0.0</td>\n",
              "      <td>0.0</td>\n",
              "      <td>0.0</td>\n",
              "      <td>0.0</td>\n",
              "      <td>0.0</td>\n",
              "      <td>0.0</td>\n",
              "      <td>0.0</td>\n",
              "    </tr>\n",
              "    <tr>\n",
              "      <th>Zuppa di Ceci (Chickpea Soup)</th>\n",
              "      <td>0.0</td>\n",
              "      <td>0.0</td>\n",
              "      <td>0.0</td>\n",
              "      <td>0.0</td>\n",
              "      <td>0.0</td>\n",
              "      <td>0.0</td>\n",
              "      <td>0.0</td>\n",
              "      <td>0.0</td>\n",
              "      <td>0.0</td>\n",
              "      <td>0.0</td>\n",
              "      <td>...</td>\n",
              "      <td>0.0</td>\n",
              "      <td>0.0</td>\n",
              "      <td>0.0</td>\n",
              "      <td>0.0</td>\n",
              "      <td>0.0</td>\n",
              "      <td>0.0</td>\n",
              "      <td>0.0</td>\n",
              "      <td>0.0</td>\n",
              "      <td>0.0</td>\n",
              "      <td>0.0</td>\n",
              "    </tr>\n",
              "    <tr>\n",
              "      <th>Zuppa di Ceci (Sopa de Garbanzos)</th>\n",
              "      <td>0.0</td>\n",
              "      <td>0.0</td>\n",
              "      <td>0.0</td>\n",
              "      <td>0.0</td>\n",
              "      <td>0.0</td>\n",
              "      <td>0.0</td>\n",
              "      <td>0.0</td>\n",
              "      <td>0.0</td>\n",
              "      <td>0.0</td>\n",
              "      <td>0.0</td>\n",
              "      <td>...</td>\n",
              "      <td>0.0</td>\n",
              "      <td>0.0</td>\n",
              "      <td>0.0</td>\n",
              "      <td>0.0</td>\n",
              "      <td>0.0</td>\n",
              "      <td>0.0</td>\n",
              "      <td>0.0</td>\n",
              "      <td>0.0</td>\n",
              "      <td>0.0</td>\n",
              "      <td>0.0</td>\n",
              "    </tr>\n",
              "    <tr>\n",
              "      <th>emparedado de filete y portobello</th>\n",
              "      <td>0.0</td>\n",
              "      <td>0.0</td>\n",
              "      <td>0.0</td>\n",
              "      <td>0.0</td>\n",
              "      <td>0.0</td>\n",
              "      <td>0.0</td>\n",
              "      <td>0.0</td>\n",
              "      <td>0.0</td>\n",
              "      <td>0.0</td>\n",
              "      <td>0.0</td>\n",
              "      <td>...</td>\n",
              "      <td>0.0</td>\n",
              "      <td>0.0</td>\n",
              "      <td>0.0</td>\n",
              "      <td>0.0</td>\n",
              "      <td>0.0</td>\n",
              "      <td>0.0</td>\n",
              "      <td>0.0</td>\n",
              "      <td>0.0</td>\n",
              "      <td>0.0</td>\n",
              "      <td>0.0</td>\n",
              "    </tr>\n",
              "    <tr>\n",
              "      <th>vegetales de invierno rostizados</th>\n",
              "      <td>0.0</td>\n",
              "      <td>0.0</td>\n",
              "      <td>0.0</td>\n",
              "      <td>0.0</td>\n",
              "      <td>0.0</td>\n",
              "      <td>0.0</td>\n",
              "      <td>0.0</td>\n",
              "      <td>0.0</td>\n",
              "      <td>0.0</td>\n",
              "      <td>0.0</td>\n",
              "      <td>...</td>\n",
              "      <td>0.0</td>\n",
              "      <td>0.0</td>\n",
              "      <td>0.0</td>\n",
              "      <td>0.0</td>\n",
              "      <td>0.0</td>\n",
              "      <td>0.0</td>\n",
              "      <td>0.0</td>\n",
              "      <td>0.0</td>\n",
              "      <td>0.0</td>\n",
              "      <td>0.0</td>\n",
              "    </tr>\n",
              "  </tbody>\n",
              "</table>\n",
              "<p>2341 rows × 800 columns</p>\n",
              "</div>"
            ],
            "text/plain": [
              "ID                                                  1    2    3    4    5    \\\n",
              "title                                                                         \n",
              "\"Alas\" sin hueso a la Barbacoa                      0.0  0.0  0.0  0.0  0.0   \n",
              "\"Arroz frito\" de Vegetales y Freekeh con Pimien...  0.0  0.0  0.0  0.0  0.0   \n",
              "\"Arroz\" frito de Coliflor                           0.0  0.0  0.0  0.0  0.0   \n",
              "\"Batatas\" Fritas                                    0.0  0.0  0.0  0.0  0.0   \n",
              "\"Emparedado\" Abierto de Batatas                     0.0  0.0  0.0  0.0  0.0   \n",
              "...                                                 ...  ...  ...  ...  ...   \n",
              "Zuppa Toscana with Cauliflower and Kale             0.0  0.0  0.0  0.0  0.0   \n",
              "Zuppa di Ceci (Chickpea Soup)                       0.0  0.0  0.0  0.0  0.0   \n",
              "Zuppa di Ceci (Sopa de Garbanzos)                   0.0  0.0  0.0  0.0  0.0   \n",
              "emparedado de filete y portobello                   0.0  0.0  0.0  0.0  0.0   \n",
              "vegetales de invierno rostizados                    0.0  0.0  0.0  0.0  0.0   \n",
              "\n",
              "ID                                                  6    7    8    9    10   \\\n",
              "title                                                                         \n",
              "\"Alas\" sin hueso a la Barbacoa                      0.0  0.0  0.0  0.0  0.0   \n",
              "\"Arroz frito\" de Vegetales y Freekeh con Pimien...  0.0  0.0  0.0  0.0  0.0   \n",
              "\"Arroz\" frito de Coliflor                           0.0  0.0  0.0  0.0  0.0   \n",
              "\"Batatas\" Fritas                                    0.0  0.0  0.0  0.0  0.0   \n",
              "\"Emparedado\" Abierto de Batatas                     0.0  0.0  0.0  0.0  0.0   \n",
              "...                                                 ...  ...  ...  ...  ...   \n",
              "Zuppa Toscana with Cauliflower and Kale             0.0  0.0  0.0  0.0  0.0   \n",
              "Zuppa di Ceci (Chickpea Soup)                       0.0  0.0  0.0  0.0  0.0   \n",
              "Zuppa di Ceci (Sopa de Garbanzos)                   0.0  0.0  0.0  0.0  0.0   \n",
              "emparedado de filete y portobello                   0.0  0.0  0.0  0.0  0.0   \n",
              "vegetales de invierno rostizados                    0.0  0.0  0.0  0.0  0.0   \n",
              "\n",
              "ID                                                  ...  791  792  793  794  \\\n",
              "title                                               ...                       \n",
              "\"Alas\" sin hueso a la Barbacoa                      ...  0.0  0.0  0.0  0.0   \n",
              "\"Arroz frito\" de Vegetales y Freekeh con Pimien...  ...  0.0  0.0  0.0  3.0   \n",
              "\"Arroz\" frito de Coliflor                           ...  0.0  0.0  0.0  0.0   \n",
              "\"Batatas\" Fritas                                    ...  0.0  0.0  0.0  0.0   \n",
              "\"Emparedado\" Abierto de Batatas                     ...  0.0  0.0  0.0  0.0   \n",
              "...                                                 ...  ...  ...  ...  ...   \n",
              "Zuppa Toscana with Cauliflower and Kale             ...  0.0  0.0  0.0  0.0   \n",
              "Zuppa di Ceci (Chickpea Soup)                       ...  0.0  0.0  0.0  0.0   \n",
              "Zuppa di Ceci (Sopa de Garbanzos)                   ...  0.0  0.0  0.0  0.0   \n",
              "emparedado de filete y portobello                   ...  0.0  0.0  0.0  0.0   \n",
              "vegetales de invierno rostizados                    ...  0.0  0.0  0.0  0.0   \n",
              "\n",
              "ID                                                  795  796  797  798  799  \\\n",
              "title                                                                         \n",
              "\"Alas\" sin hueso a la Barbacoa                      0.0  0.0  0.0  0.0  0.0   \n",
              "\"Arroz frito\" de Vegetales y Freekeh con Pimien...  0.0  0.0  0.0  0.0  0.0   \n",
              "\"Arroz\" frito de Coliflor                           0.0  0.0  0.0  0.0  0.0   \n",
              "\"Batatas\" Fritas                                    0.0  0.0  0.0  0.0  0.0   \n",
              "\"Emparedado\" Abierto de Batatas                     0.0  0.0  0.0  0.0  0.0   \n",
              "...                                                 ...  ...  ...  ...  ...   \n",
              "Zuppa Toscana with Cauliflower and Kale             0.0  0.0  0.0  0.0  0.0   \n",
              "Zuppa di Ceci (Chickpea Soup)                       0.0  0.0  0.0  0.0  0.0   \n",
              "Zuppa di Ceci (Sopa de Garbanzos)                   0.0  0.0  0.0  0.0  0.0   \n",
              "emparedado de filete y portobello                   0.0  0.0  0.0  0.0  0.0   \n",
              "vegetales de invierno rostizados                    0.0  0.0  0.0  0.0  0.0   \n",
              "\n",
              "ID                                                  800  \n",
              "title                                                    \n",
              "\"Alas\" sin hueso a la Barbacoa                      0.0  \n",
              "\"Arroz frito\" de Vegetales y Freekeh con Pimien...  0.0  \n",
              "\"Arroz\" frito de Coliflor                           0.0  \n",
              "\"Batatas\" Fritas                                    0.0  \n",
              "\"Emparedado\" Abierto de Batatas                     0.0  \n",
              "...                                                 ...  \n",
              "Zuppa Toscana with Cauliflower and Kale             0.0  \n",
              "Zuppa di Ceci (Chickpea Soup)                       0.0  \n",
              "Zuppa di Ceci (Sopa de Garbanzos)                   0.0  \n",
              "emparedado de filete y portobello                   0.0  \n",
              "vegetales de invierno rostizados                    0.0  \n",
              "\n",
              "[2341 rows x 800 columns]"
            ]
          },
          "execution_count": 16,
          "metadata": {},
          "output_type": "execute_result"
        }
      ],
      "source": [
        "final_rating=ratings_merged_food\n",
        "pt = final_rating.pivot_table(index='title',columns='ID',values='star')\n",
        "pt.fillna(0,inplace=True)\n",
        "pt"
      ]
    },
    {
      "cell_type": "code",
      "execution_count": 17,
      "metadata": {
        "trusted": true
      },
      "outputs": [],
      "source": [
        "from sklearn.metrics.pairwise import cosine_similarity"
      ]
    },
    {
      "cell_type": "code",
      "execution_count": 18,
      "metadata": {
        "trusted": true
      },
      "outputs": [],
      "source": [
        "similarity_scores = cosine_similarity(pt)"
      ]
    },
    {
      "cell_type": "code",
      "execution_count": 19,
      "metadata": {
        "trusted": true
      },
      "outputs": [
        {
          "name": "stdout",
          "output_type": "stream",
          "text": [
            "(2341, 2341)\n"
          ]
        }
      ],
      "source": [
        "print(similarity_scores.shape)"
      ]
    },
    {
      "cell_type": "code",
      "execution_count": 20,
      "metadata": {
        "trusted": true
      },
      "outputs": [
        {
          "data": {
            "text/plain": [
              "array([[1., 0., 0., ..., 0., 0., 0.],\n",
              "       [0., 1., 0., ..., 0., 0., 0.],\n",
              "       [0., 0., 1., ..., 0., 0., 0.],\n",
              "       ...,\n",
              "       [0., 0., 0., ..., 1., 0., 0.],\n",
              "       [0., 0., 0., ..., 0., 1., 0.],\n",
              "       [0., 0., 0., ..., 0., 0., 1.]])"
            ]
          },
          "execution_count": 20,
          "metadata": {},
          "output_type": "execute_result"
        }
      ],
      "source": [
        "similarity_scores"
      ]
    },
    {
      "cell_type": "code",
      "execution_count": 21,
      "metadata": {
        "trusted": true
      },
      "outputs": [],
      "source": [
        "def recommend(food_name):\n",
        "    index = np.where(pt.index==food_name)[0][0]\n",
        "    similar_items = sorted(list(enumerate(similarity_scores[index])),key=lambda x:x[1],reverse=True)[1:6]\n",
        "    \n",
        "    data = []\n",
        "    for i in similar_items:\n",
        "        item = []\n",
        "        temp_df = food[food['title'] == pt.index[i[0]]]\n",
        "        item.extend(list(temp_df.drop_duplicates('title')['title'].values))\n",
        "        \n",
        "        data.append(item)\n",
        "    \n",
        "    return data"
      ]
    },
    {
      "cell_type": "code",
      "execution_count": 22,
      "metadata": {
        "scrolled": true,
        "trusted": true
      },
      "outputs": [
        {
          "data": {
            "text/plain": [
              "[[\"Meat Lover's Breakfast Cups\"],\n",
              " ['Papas rojas rústicas y frijoles verdes'],\n",
              " ['Vegetable & Freekeh \"Fried Rice\" with Shishito Peppers and Peanuts'],\n",
              " ['Quinoa Oatmeal'],\n",
              " ['Quiche de calabaza con corteza de quinoa']]"
            ]
          },
          "execution_count": 22,
          "metadata": {},
          "output_type": "execute_result"
        }
      ],
      "source": [
        "recommend(\"Meat Lover's Breakfast Cups\")"
      ]
    },
    {
      "cell_type": "code",
      "execution_count": 23,
      "metadata": {
        "trusted": true
      },
      "outputs": [
        {
          "data": {
            "text/plain": [
              "[[\"Meat Lover's Breakfast Cups\"],\n",
              " ['Papas rojas rústicas y frijoles verdes'],\n",
              " ['Vegetable & Freekeh \"Fried Rice\" with Shishito Peppers and Peanuts'],\n",
              " ['Quinoa Oatmeal'],\n",
              " ['Quiche de calabaza con corteza de quinoa']]"
            ]
          },
          "execution_count": 23,
          "metadata": {},
          "output_type": "execute_result"
        }
      ],
      "source": [
        "recommend(\"Papas rojas rústicas y frijoles verdes\")"
      ]
    },
    {
      "cell_type": "code",
      "execution_count": 24,
      "metadata": {
        "trusted": true
      },
      "outputs": [
        {
          "data": {
            "text/plain": [
              "[['Italian Sausage Frittata'],\n",
              " ['Grilled Peaches with Fresh Blueberry Compote'],\n",
              " ['Walnut Lentil Salad'],\n",
              " ['Sofrito de Cerdo y Freekeh con Coles de bruselas, Zanahorias, y Pimientos shishito'],\n",
              " ['Agua de sandía y romero']]"
            ]
          },
          "execution_count": 24,
          "metadata": {},
          "output_type": "execute_result"
        }
      ],
      "source": [
        "recommend('\"Batatas\" Fritas')"
      ]
    },
    {
      "cell_type": "code",
      "execution_count": 25,
      "metadata": {
        "trusted": true
      },
      "outputs": [
        {
          "data": {
            "text/plain": [
              "[['Whole Wheat Fresh Gingerbread'],\n",
              " ['Black Bean, Mango and Chicken Quesadillas with Salad'],\n",
              " ['Toasted Nut & Cranberry Trail Mix'],\n",
              " ['Cinnamon Apple Chips with Peanut Butter Yogurt Dip'],\n",
              " ['\"Batatas\" Fritas']]"
            ]
          },
          "execution_count": 25,
          "metadata": {},
          "output_type": "execute_result"
        }
      ],
      "source": [
        "recommend(\"Walnut Lentil Salad\")"
      ]
    },
    {
      "cell_type": "code",
      "execution_count": 26,
      "metadata": {
        "trusted": true
      },
      "outputs": [],
      "source": [
        "# Save the modified DataFrame to a new CSV file\n",
        "ratings.to_csv('modified_ratings.csv', index=False)"
      ]
    },
    {
      "cell_type": "code",
      "execution_count": null,
      "metadata": {
        "trusted": true
      },
      "outputs": [],
      "source": []
    }
  ],
  "metadata": {
    "kernelspec": {
      "display_name": "Python (Pyodide)",
      "language": "python",
      "name": "python"
    },
    "language_info": {
      "codemirror_mode": {
        "name": "python",
        "version": 3
      },
      "file_extension": ".py",
      "mimetype": "text/x-python",
      "name": "python",
      "nbconvert_exporter": "python",
      "pygments_lexer": "ipython3",
      "version": "3.8"
    }
  },
  "nbformat": 4,
  "nbformat_minor": 4
}
