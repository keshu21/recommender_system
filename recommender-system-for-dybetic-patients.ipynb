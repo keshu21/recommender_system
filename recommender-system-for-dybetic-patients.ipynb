{
  "cells": [
    {
      "cell_type": "code",
      "execution_count": 14,
      "metadata": {
        "trusted": true
      },
      "outputs": [
        {
          "data": {
            "text/html": [
              "<div>\n",
              "<style scoped>\n",
              "    .dataframe tbody tr th:only-of-type {\n",
              "        vertical-align: middle;\n",
              "    }\n",
              "\n",
              "    .dataframe tbody tr th {\n",
              "        vertical-align: top;\n",
              "    }\n",
              "\n",
              "    .dataframe thead th {\n",
              "        text-align: right;\n",
              "    }\n",
              "</style>\n",
              "<table border=\"1\" class=\"dataframe\">\n",
              "  <thead>\n",
              "    <tr style=\"text-align: right;\">\n",
              "      <th></th>\n",
              "      <th>ID</th>\n",
              "      <th>Food_Choices</th>\n",
              "    </tr>\n",
              "  </thead>\n",
              "  <tbody>\n",
              "    <tr>\n",
              "      <th>0</th>\n",
              "      <td>502</td>\n",
              "      <td>1330</td>\n",
              "    </tr>\n",
              "    <tr>\n",
              "      <th>0</th>\n",
              "      <td>502</td>\n",
              "      <td>1928</td>\n",
              "    </tr>\n",
              "    <tr>\n",
              "      <th>0</th>\n",
              "      <td>502</td>\n",
              "      <td>933</td>\n",
              "    </tr>\n",
              "    <tr>\n",
              "      <th>0</th>\n",
              "      <td>502</td>\n",
              "      <td>79</td>\n",
              "    </tr>\n",
              "    <tr>\n",
              "      <th>0</th>\n",
              "      <td>502</td>\n",
              "      <td>3363</td>\n",
              "    </tr>\n",
              "    <tr>\n",
              "      <th>...</th>\n",
              "      <td>...</td>\n",
              "      <td>...</td>\n",
              "    </tr>\n",
              "    <tr>\n",
              "      <th>799</th>\n",
              "      <td>248</td>\n",
              "      <td>933</td>\n",
              "    </tr>\n",
              "    <tr>\n",
              "      <th>799</th>\n",
              "      <td>248</td>\n",
              "      <td>79</td>\n",
              "    </tr>\n",
              "    <tr>\n",
              "      <th>799</th>\n",
              "      <td>248</td>\n",
              "      <td>3363</td>\n",
              "    </tr>\n",
              "    <tr>\n",
              "      <th>799</th>\n",
              "      <td>248</td>\n",
              "      <td>3523</td>\n",
              "    </tr>\n",
              "    <tr>\n",
              "      <th>799</th>\n",
              "      <td>248</td>\n",
              "      <td>3261</td>\n",
              "    </tr>\n",
              "  </tbody>\n",
              "</table>\n",
              "<p>5594 rows × 2 columns</p>\n",
              "</div>"
            ],
            "text/plain": [
              "      ID Food_Choices\n",
              "0    502         1330\n",
              "0    502         1928\n",
              "0    502          933\n",
              "0    502           79\n",
              "0    502         3363\n",
              "..   ...          ...\n",
              "799  248          933\n",
              "799  248           79\n",
              "799  248         3363\n",
              "799  248         3523\n",
              "799  248         3261\n",
              "\n",
              "[5594 rows x 2 columns]"
            ]
          },
          "execution_count": 14,
          "metadata": {},
          "output_type": "execute_result"
        }
      ],
      "source": [
        "import pandas as pd\n",
        "# Read the CSV file into a DataFrame\n",
        "df = pd.read_csv('PatientFood_choice.csv')\n",
        "\n",
        "# Explode the 'Food_Choices' column to create a new row for each element in the list\n",
        "df_exploded = df.explode('Food_Choices')\n",
        "\n",
        "# Extract the individual elements from the lists in 'Food_Choices'\n",
        "df_exploded['Food_Choices'] = df_exploded['Food_Choices'].apply(lambda x: [int(i) for i in x.strip('[]').split()])\n",
        "\n",
        "# Explode the 'Food_Choices' column again to create a new row for each element in the list\n",
        "ratings = df_exploded.explode('Food_Choices')\n",
        "\n",
        "# Display the resulting DataFrame\n",
        "ratings[['ID', 'Food_Choices']]\n"
      ]
    },
    {
      "cell_type": "code",
      "execution_count": 15,
      "metadata": {
        "trusted": true
      },
      "outputs": [],
      "source": [
        "users = pd.read_csv('Dataset of Diabetes .csv')\n",
        "food = pd.read_csv('food_data_modified.csv')"
      ]
    },
    {
      "cell_type": "code",
      "execution_count": 16,
      "metadata": {
        "trusted": true
      },
      "outputs": [
        {
          "name": "stdout",
          "output_type": "stream",
          "text": [
            "(1000, 14)\n",
            "(5594, 15)\n",
            "(2617, 11)\n"
          ]
        }
      ],
      "source": [
        "print(users.shape)\n",
        "print(ratings.shape)\n",
        "print(food.shape)"
      ]
    },
    {
      "cell_type": "code",
      "execution_count": 19,
      "metadata": {
        "trusted": true
      },
      "outputs": [
        {
          "data": {
            "text/html": [
              "<div>\n",
              "<style scoped>\n",
              "    .dataframe tbody tr th:only-of-type {\n",
              "        vertical-align: middle;\n",
              "    }\n",
              "\n",
              "    .dataframe tbody tr th {\n",
              "        vertical-align: top;\n",
              "    }\n",
              "\n",
              "    .dataframe thead th {\n",
              "        text-align: right;\n",
              "    }\n",
              "</style>\n",
              "<table border=\"1\" class=\"dataframe\">\n",
              "  <thead>\n",
              "    <tr style=\"text-align: right;\">\n",
              "      <th></th>\n",
              "      <th>ID</th>\n",
              "      <th>Food_Choices</th>\n",
              "      <th>star</th>\n",
              "    </tr>\n",
              "  </thead>\n",
              "  <tbody>\n",
              "    <tr>\n",
              "      <th>0</th>\n",
              "      <td>502</td>\n",
              "      <td>1330</td>\n",
              "      <td>6</td>\n",
              "    </tr>\n",
              "    <tr>\n",
              "      <th>0</th>\n",
              "      <td>502</td>\n",
              "      <td>1928</td>\n",
              "      <td>5</td>\n",
              "    </tr>\n",
              "    <tr>\n",
              "      <th>0</th>\n",
              "      <td>502</td>\n",
              "      <td>933</td>\n",
              "      <td>9</td>\n",
              "    </tr>\n",
              "    <tr>\n",
              "      <th>0</th>\n",
              "      <td>502</td>\n",
              "      <td>79</td>\n",
              "      <td>8</td>\n",
              "    </tr>\n",
              "    <tr>\n",
              "      <th>0</th>\n",
              "      <td>502</td>\n",
              "      <td>3363</td>\n",
              "      <td>8</td>\n",
              "    </tr>\n",
              "    <tr>\n",
              "      <th>...</th>\n",
              "      <td>...</td>\n",
              "      <td>...</td>\n",
              "      <td>...</td>\n",
              "    </tr>\n",
              "    <tr>\n",
              "      <th>799</th>\n",
              "      <td>248</td>\n",
              "      <td>933</td>\n",
              "      <td>6</td>\n",
              "    </tr>\n",
              "    <tr>\n",
              "      <th>799</th>\n",
              "      <td>248</td>\n",
              "      <td>79</td>\n",
              "      <td>6</td>\n",
              "    </tr>\n",
              "    <tr>\n",
              "      <th>799</th>\n",
              "      <td>248</td>\n",
              "      <td>3363</td>\n",
              "      <td>4</td>\n",
              "    </tr>\n",
              "    <tr>\n",
              "      <th>799</th>\n",
              "      <td>248</td>\n",
              "      <td>3523</td>\n",
              "      <td>7</td>\n",
              "    </tr>\n",
              "    <tr>\n",
              "      <th>799</th>\n",
              "      <td>248</td>\n",
              "      <td>3261</td>\n",
              "      <td>7</td>\n",
              "    </tr>\n",
              "  </tbody>\n",
              "</table>\n",
              "<p>5594 rows × 3 columns</p>\n",
              "</div>"
            ],
            "text/plain": [
              "      ID Food_Choices  star\n",
              "0    502         1330     6\n",
              "0    502         1928     5\n",
              "0    502          933     9\n",
              "0    502           79     8\n",
              "0    502         3363     8\n",
              "..   ...          ...   ...\n",
              "799  248          933     6\n",
              "799  248           79     6\n",
              "799  248         3363     4\n",
              "799  248         3523     7\n",
              "799  248         3261     7\n",
              "\n",
              "[5594 rows x 3 columns]"
            ]
          },
          "execution_count": 19,
          "metadata": {},
          "output_type": "execute_result"
        }
      ],
      "source": [
        "import numpy as np\n",
        "ratings['star'] = np.random.randint(1, 11, size=len(ratings));\n",
        "ratings[['ID', 'Food_Choices', 'star']]\n"
      ]
    },
    {
      "cell_type": "code",
      "execution_count": 22,
      "metadata": {
        "trusted": true
      },
      "outputs": [
        {
          "data": {
            "text/plain": [
              "ID              0\n",
              "No_Pation       0\n",
              "Gender          0\n",
              "AGE             0\n",
              "Urea            0\n",
              "Cr              0\n",
              "HbA1c           0\n",
              "Chol            0\n",
              "TG              0\n",
              "HDL             0\n",
              "LDL             0\n",
              "VLDL            0\n",
              "BMI             0\n",
              "Food_Choices    0\n",
              "CLASS           0\n",
              "star            0\n",
              "dtype: int64"
            ]
          },
          "execution_count": 22,
          "metadata": {},
          "output_type": "execute_result"
        }
      ],
      "source": [
        "ratings.isnull().sum()"
      ]
    },
    {
      "cell_type": "code",
      "execution_count": 26,
      "metadata": {
        "trusted": true
      },
      "outputs": [
        {
          "data": {
            "text/plain": [
              "15"
            ]
          },
          "execution_count": 26,
          "metadata": {},
          "output_type": "execute_result"
        }
      ],
      "source": [
        "food.duplicated().sum()\n"
      ]
    },
    {
      "cell_type": "code",
      "execution_count": 27,
      "metadata": {
        "trusted": true
      },
      "outputs": [
        {
          "name": "stdout",
          "output_type": "stream",
          "text": [
            "        id                                              title  \\\n",
            "0      302              Healthy Homemade Green Bean Casserole   \n",
            "1       84                                        Berry Crisp   \n",
            "2     2073             Low-Carb Cauliflower Mashed \"Potatoes\"   \n",
            "3      311                                Herb-Roasted Turkey   \n",
            "4      592  Winter Squash with Oat and Walnut Crumble Topp...   \n",
            "...    ...                                                ...   \n",
            "2612  3143                                   Tacos de Pescado   \n",
            "2613  1729                        Tarta de manzana de Ronaldo   \n",
            "2614  1754  Tostadas de Camarones Ahumados con Ensalada de...   \n",
            "2615  3162                       Tostadas de Huevo y Aguacate   \n",
            "2616  1799  Apple, Beet, and Carrot Slaw with blood Orange...   \n",
            "\n",
            "                                               imageSrc  \\\n",
            "0     https://static.diabetesfoodhub.org/system/thum...   \n",
            "1     https://static.diabetesfoodhub.org/system/thum...   \n",
            "2     https://static.diabetesfoodhub.org/system/thum...   \n",
            "3     https://static.diabetesfoodhub.org/system/thum...   \n",
            "4     https://static.diabetesfoodhub.org/system/thum...   \n",
            "...                                                 ...   \n",
            "2612  https://static.diabetesfoodhub.org/system/thum...   \n",
            "2613  https://static.diabetesfoodhub.org/system/thum...   \n",
            "2614  https://static.diabetesfoodhub.org/system/thum...   \n",
            "2615  https://static.diabetesfoodhub.org/system/thum...   \n",
            "2616  https://static.diabetesfoodhub.org/system/thum...   \n",
            "\n",
            "                                                    url cookTime  \\\n",
            "0     https://www.diabetesfoodhub.org/recipes/health...      NaN   \n",
            "1     https://www.diabetesfoodhub.org/recipes/berry-...   55 min   \n",
            "2     https://www.diabetesfoodhub.org/recipes/low-ca...   10 min   \n",
            "3     https://www.diabetesfoodhub.org/recipes/herb-r...      NaN   \n",
            "4     https://www.diabetesfoodhub.org/recipes/winter...      NaN   \n",
            "...                                                 ...      ...   \n",
            "2612  https://www.diabetesfoodhub.org/recipes/tacos-...    7 min   \n",
            "2613  https://www.diabetesfoodhub.org/recipes/tarta-...     1 hr   \n",
            "2614  https://www.diabetesfoodhub.org/recipes/tostad...   30 min   \n",
            "2615  https://www.diabetesfoodhub.org/recipes/tostad...      NaN   \n",
            "2616  https://www.diabetesfoodhub.org/recipes/apple-...      NaN   \n",
            "\n",
            "      carbohydrates   fat  protein  calories  like  dislike  \n",
            "0              11.0   6.0      4.0     110.0   3.0      0.0  \n",
            "1              24.0  11.0      3.0     190.0   8.0      1.0  \n",
            "2               7.0   4.0      4.0      70.0   1.0      0.0  \n",
            "3               0.0   2.5     33.0     165.0   1.0      0.0  \n",
            "4              18.0   3.5      2.0     105.0   1.0      0.0  \n",
            "...             ...   ...      ...       ...   ...      ...  \n",
            "2612           14.0   2.5      0.0     150.0   0.0      1.0  \n",
            "2613           40.0  10.0      4.0     250.0   1.0      1.0  \n",
            "2614           29.0   5.0     10.0     190.0   1.0      1.0  \n",
            "2615           26.0  12.0      0.0     250.0   3.0      1.0  \n",
            "2616           15.0  12.0      2.0     170.0   1.0      2.0  \n",
            "\n",
            "[2602 rows x 11 columns]\n"
          ]
        }
      ],
      "source": [
        "# Drop duplicate rows based on all columns\n",
        "food_no_duplicates = food.drop_duplicates()\n",
        "\n",
        "# Display the resulting DataFrame without duplicates\n",
        "print(food_no_duplicates)"
      ]
    },
    {
      "cell_type": "code",
      "execution_count": 28,
      "metadata": {
        "trusted": true
      },
      "outputs": [],
      "source": [
        "food=food_no_duplicates"
      ]
    },
    {
      "cell_type": "code",
      "execution_count": 29,
      "metadata": {
        "trusted": true
      },
      "outputs": [
        {
          "name": "stdout",
          "output_type": "stream",
          "text": [
            "        id                                              title  \\\n",
            "0      302              Healthy Homemade Green Bean Casserole   \n",
            "1       84                                        Berry Crisp   \n",
            "2     2073             Low-Carb Cauliflower Mashed \"Potatoes\"   \n",
            "3      311                                Herb-Roasted Turkey   \n",
            "4      592  Winter Squash with Oat and Walnut Crumble Topp...   \n",
            "...    ...                                                ...   \n",
            "2612  3143                                   Tacos de Pescado   \n",
            "2613  1729                        Tarta de manzana de Ronaldo   \n",
            "2614  1754  Tostadas de Camarones Ahumados con Ensalada de...   \n",
            "2615  3162                       Tostadas de Huevo y Aguacate   \n",
            "2616  1799  Apple, Beet, and Carrot Slaw with blood Orange...   \n",
            "\n",
            "                                               imageSrc  \\\n",
            "0     https://static.diabetesfoodhub.org/system/thum...   \n",
            "1     https://static.diabetesfoodhub.org/system/thum...   \n",
            "2     https://static.diabetesfoodhub.org/system/thum...   \n",
            "3     https://static.diabetesfoodhub.org/system/thum...   \n",
            "4     https://static.diabetesfoodhub.org/system/thum...   \n",
            "...                                                 ...   \n",
            "2612  https://static.diabetesfoodhub.org/system/thum...   \n",
            "2613  https://static.diabetesfoodhub.org/system/thum...   \n",
            "2614  https://static.diabetesfoodhub.org/system/thum...   \n",
            "2615  https://static.diabetesfoodhub.org/system/thum...   \n",
            "2616  https://static.diabetesfoodhub.org/system/thum...   \n",
            "\n",
            "                                                    url cookTime  \\\n",
            "0     https://www.diabetesfoodhub.org/recipes/health...      NaN   \n",
            "1     https://www.diabetesfoodhub.org/recipes/berry-...   55 min   \n",
            "2     https://www.diabetesfoodhub.org/recipes/low-ca...   10 min   \n",
            "3     https://www.diabetesfoodhub.org/recipes/herb-r...      NaN   \n",
            "4     https://www.diabetesfoodhub.org/recipes/winter...      NaN   \n",
            "...                                                 ...      ...   \n",
            "2612  https://www.diabetesfoodhub.org/recipes/tacos-...    7 min   \n",
            "2613  https://www.diabetesfoodhub.org/recipes/tarta-...     1 hr   \n",
            "2614  https://www.diabetesfoodhub.org/recipes/tostad...   30 min   \n",
            "2615  https://www.diabetesfoodhub.org/recipes/tostad...      NaN   \n",
            "2616  https://www.diabetesfoodhub.org/recipes/apple-...      NaN   \n",
            "\n",
            "      carbohydrates   fat  protein  calories  like  dislike  \n",
            "0              11.0   6.0      4.0     110.0   3.0      0.0  \n",
            "1              24.0  11.0      3.0     190.0   8.0      1.0  \n",
            "2               7.0   4.0      4.0      70.0   1.0      0.0  \n",
            "3               0.0   2.5     33.0     165.0   1.0      0.0  \n",
            "4              18.0   3.5      2.0     105.0   1.0      0.0  \n",
            "...             ...   ...      ...       ...   ...      ...  \n",
            "2612           14.0   2.5      0.0     150.0   0.0      1.0  \n",
            "2613           40.0  10.0      4.0     250.0   1.0      1.0  \n",
            "2614           29.0   5.0     10.0     190.0   1.0      1.0  \n",
            "2615           26.0  12.0      0.0     250.0   3.0      1.0  \n",
            "2616           15.0  12.0      2.0     170.0   1.0      2.0  \n",
            "\n",
            "[2602 rows x 11 columns]\n"
          ]
        }
      ],
      "source": [
        "print (food)"
      ]
    },
    {
      "cell_type": "code",
      "execution_count": 41,
      "metadata": {
        "trusted": true
      },
      "outputs": [
        {
          "name": "stdout",
          "output_type": "stream",
          "text": [
            "Index(['id', 'title', 'imageSrc', 'url', 'carbohydrates', 'fat', 'protein',\n",
            "       'calories', 'like', 'dislike'],\n",
            "      dtype='object')\n",
            "Index(['ID', 'No_Pation', 'Gender', 'AGE', 'Urea', 'Cr', 'HbA1c', 'Chol', 'TG',\n",
            "       'HDL', 'LDL', 'VLDL', 'BMI', 'Food_Choices', 'CLASS', 'star'],\n",
            "      dtype='object')\n",
            "Index(['ID', 'No_Pation', 'Gender', 'AGE', 'Urea', 'Cr', 'HbA1c', 'Chol', 'TG',\n",
            "       'HDL', 'LDL', 'VLDL', 'BMI', 'CLASS'],\n",
            "      dtype='object')\n"
          ]
        }
      ],
      "source": [
        "print(food.columns)\n",
        "print(ratings.columns)\n",
        "print(users.columns)"
      ]
    },
    {
      "cell_type": "code",
      "execution_count": 43,
      "metadata": {
        "trusted": true
      },
      "outputs": [
        {
          "name": "stdout",
          "output_type": "stream",
          "text": [
            "      ID  No_Pation Gender  AGE  Urea  Cr  HbA1c  Chol   TG  HDL  LDL  VLDL  \\\n",
            "0    502      17975      F   50   4.7  46    4.9   4.2  0.9  2.4  1.4   0.5   \n",
            "0    502      17975      F   50   4.7  46    4.9   4.2  0.9  2.4  1.4   0.5   \n",
            "0    502      17975      F   50   4.7  46    4.9   4.2  0.9  2.4  1.4   0.5   \n",
            "0    502      17975      F   50   4.7  46    4.9   4.2  0.9  2.4  1.4   0.5   \n",
            "0    502      17975      F   50   4.7  46    4.9   4.2  0.9  2.4  1.4   0.5   \n",
            "..   ...        ...    ...  ...   ...  ..    ...   ...  ...  ...  ...   ...   \n",
            "799  248      24054      M   54   5.0  67    6.9   3.8  1.7  1.1  3.0   0.7   \n",
            "799  248      24054      M   54   5.0  67    6.9   3.8  1.7  1.1  3.0   0.7   \n",
            "799  248      24054      M   54   5.0  67    6.9   3.8  1.7  1.1  3.0   0.7   \n",
            "799  248      24054      M   54   5.0  67    6.9   3.8  1.7  1.1  3.0   0.7   \n",
            "799  248      24054      M   54   5.0  67    6.9   3.8  1.7  1.1  3.0   0.7   \n",
            "\n",
            "      BMI Food_Choices CLASS  star  \n",
            "0    24.0         1330     N     6  \n",
            "0    24.0         1928     N     5  \n",
            "0    24.0          933     N     9  \n",
            "0    24.0           79     N     8  \n",
            "0    24.0         3363     N     8  \n",
            "..    ...          ...   ...   ...  \n",
            "799  33.0          933    Y      6  \n",
            "799  33.0           79    Y      6  \n",
            "799  33.0         3363    Y      4  \n",
            "799  33.0         3523    Y      7  \n",
            "799  33.0         3261    Y      7  \n",
            "\n",
            "[5594 rows x 16 columns]\n"
          ]
        }
      ],
      "source": [
        "print(ratings)"
      ]
    },
    {
      "cell_type": "code",
      "execution_count": 49,
      "metadata": {
        "trusted": true
      },
      "outputs": [
        {
          "name": "stdout",
          "output_type": "stream",
          "text": [
            "      ID Food_Choices  star\n",
            "0    502         1330     5\n",
            "0    502         1928     3\n",
            "0    502          933    10\n",
            "0    502           79     5\n",
            "0    502         3363     9\n",
            "..   ...          ...   ...\n",
            "799  248          933     7\n",
            "799  248           79     7\n",
            "799  248         3363     3\n",
            "799  248         3523    10\n",
            "799  248         3261     1\n",
            "\n",
            "[5594 rows x 3 columns]\n"
          ]
        }
      ],
      "source": [
        "# Rename a specific column (e.g., 'old_column_name' to 'new_column_name')\n",
        "ratings.rename(columns={'Food_Choices': 'foodId'}, inplace=True)\n",
        "\n",
        "# Read the CSV file into a DataFrame\n",
        "df = pd.read_csv('PatientFood_choice.csv')\n",
        "\n",
        "# Explode the 'Food_Choices' column to create a new row for each element in the list\n",
        "df_exploded = df.explode('Food_Choices')\n",
        "\n",
        "# Extract the individual elements from the lists in 'Food_Choices'\n",
        "df_exploded['Food_Choices'] = df_exploded['Food_Choices'].apply(lambda x: [int(i) for i in x.strip('[]').split()])\n",
        "\n",
        "# Explode the 'Food_Choices' column again to create a new row for each element in the list\n",
        "ratings = df_exploded.explode('Food_Choices')\n",
        "\n",
        "# Display the resulting DataFrame\n",
        "ratings[['ID', 'Food_Choices']]\n",
        "\n",
        "ratings['star'] = np.random.randint(1, 11, size=len(ratings));\n",
        "ratings[['ID', 'Food_Choices', 'star']]\n",
        "\n",
        "columns_to_drop = ['No_Pation', 'Gender', 'AGE', 'Urea', 'Cr', 'HbA1c', 'Chol', 'TG',\n",
        "       'HDL', 'LDL', 'VLDL', 'BMI', 'CLASS']\n",
        "ratings = ratings.drop(columns_to_drop, axis=1)\n",
        "print(ratings)"
      ]
    },
    {
      "cell_type": "code",
      "execution_count": 52,
      "metadata": {
        "trusted": true
      },
      "outputs": [
        {
          "name": "stdout",
          "output_type": "stream",
          "text": [
            "      ID foodId  star\n",
            "0    502   1330     5\n",
            "0    502   1928     3\n",
            "0    502    933    10\n",
            "0    502     79     5\n",
            "0    502   3363     9\n",
            "..   ...    ...   ...\n",
            "799  248    933     7\n",
            "799  248     79     7\n",
            "799  248   3363     3\n",
            "799  248   3523    10\n",
            "799  248   3261     1\n",
            "\n",
            "[5594 rows x 3 columns]\n"
          ]
        }
      ],
      "source": [
        "ratings.rename(columns={'Food_Choices':'foodId'}, inplace=True)\n",
        "print(ratings)"
      ]
    },
    {
      "cell_type": "code",
      "execution_count": 55,
      "metadata": {
        "trusted": true
      },
      "outputs": [
        {
          "data": {
            "text/plain": [
              "Index(['foodId', 'title', 'imageSrc', 'url', 'carbohydrates', 'fat', 'protein',\n",
              "       'calories', 'like', 'dislike'],\n",
              "      dtype='object')"
            ]
          },
          "execution_count": 55,
          "metadata": {},
          "output_type": "execute_result"
        }
      ],
      "source": [
        "food.rename(columns={'id':'foodId'}, inplace=True)\n",
        "food.columns"
      ]
    },
    {
      "cell_type": "code",
      "execution_count": 62,
      "metadata": {
        "trusted": true
      },
      "outputs": [
        {
          "name": "stdout",
          "output_type": "stream",
          "text": [
            "       ID foodId  star                        title  \\\n",
            "0     502   1330     5  Meat Lover's Breakfast Cups   \n",
            "1     735   1330     7  Meat Lover's Breakfast Cups   \n",
            "2     420   1330     7  Meat Lover's Breakfast Cups   \n",
            "3     680   1330     9  Meat Lover's Breakfast Cups   \n",
            "4     504   1330     3  Meat Lover's Breakfast Cups   \n",
            "...   ...    ...   ...                          ...   \n",
            "5589  208   1022     3       Better Mashed Potatoes   \n",
            "5590  543   1022     8       Better Mashed Potatoes   \n",
            "5591  436   1022     7       Better Mashed Potatoes   \n",
            "5592  415   1022    10       Better Mashed Potatoes   \n",
            "5593  781   1022     6       Better Mashed Potatoes   \n",
            "\n",
            "                                               imageSrc  \\\n",
            "0     https://static.diabetesfoodhub.org/system/thum...   \n",
            "1     https://static.diabetesfoodhub.org/system/thum...   \n",
            "2     https://static.diabetesfoodhub.org/system/thum...   \n",
            "3     https://static.diabetesfoodhub.org/system/thum...   \n",
            "4     https://static.diabetesfoodhub.org/system/thum...   \n",
            "...                                                 ...   \n",
            "5589  https://static.diabetesfoodhub.org/system/thum...   \n",
            "5590  https://static.diabetesfoodhub.org/system/thum...   \n",
            "5591  https://static.diabetesfoodhub.org/system/thum...   \n",
            "5592  https://static.diabetesfoodhub.org/system/thum...   \n",
            "5593  https://static.diabetesfoodhub.org/system/thum...   \n",
            "\n",
            "                                                    url  carbohydrates  fat  \\\n",
            "0     https://www.diabetesfoodhub.org/recipes/meat-l...            9.0  5.0   \n",
            "1     https://www.diabetesfoodhub.org/recipes/meat-l...            9.0  5.0   \n",
            "2     https://www.diabetesfoodhub.org/recipes/meat-l...            9.0  5.0   \n",
            "3     https://www.diabetesfoodhub.org/recipes/meat-l...            9.0  5.0   \n",
            "4     https://www.diabetesfoodhub.org/recipes/meat-l...            9.0  5.0   \n",
            "...                                                 ...            ...  ...   \n",
            "5589  https://www.diabetesfoodhub.org/recipes/better...            7.0  2.0   \n",
            "5590  https://www.diabetesfoodhub.org/recipes/better...            7.0  2.0   \n",
            "5591  https://www.diabetesfoodhub.org/recipes/better...            7.0  2.0   \n",
            "5592  https://www.diabetesfoodhub.org/recipes/better...            7.0  2.0   \n",
            "5593  https://www.diabetesfoodhub.org/recipes/better...            7.0  2.0   \n",
            "\n",
            "      protein  calories   like  dislike  \n",
            "0         8.0     110.0  203.0     29.0  \n",
            "1         8.0     110.0  203.0     29.0  \n",
            "2         8.0     110.0  203.0     29.0  \n",
            "3         8.0     110.0  203.0     29.0  \n",
            "4         8.0     110.0  203.0     29.0  \n",
            "...       ...       ...    ...      ...  \n",
            "5589      2.0      60.0  136.0     40.0  \n",
            "5590      2.0      60.0  136.0     40.0  \n",
            "5591      2.0      60.0  136.0     40.0  \n",
            "5592      2.0      60.0  136.0     40.0  \n",
            "5593      2.0      60.0  136.0     40.0  \n",
            "\n",
            "[5594 rows x 12 columns]\n"
          ]
        }
      ],
      "source": [
        "ratings_merged_food=ratings.merge(food, on='foodId')\n",
        "print(ratings_merged_food)"
      ]
    },
    {
      "cell_type": "code",
      "execution_count": 63,
      "metadata": {
        "trusted": true
      },
      "outputs": [
        {
          "data": {
            "text/plain": [
              "Index(['ID', 'foodId', 'star', 'title', 'imageSrc', 'url', 'carbohydrates',\n",
              "       'fat', 'protein', 'calories', 'like', 'dislike'],\n",
              "      dtype='object')"
            ]
          },
          "execution_count": 63,
          "metadata": {},
          "output_type": "execute_result"
        }
      ],
      "source": [
        "ratings_merged_food.columns"
      ]
    },
    {
      "cell_type": "code",
      "execution_count": 64,
      "metadata": {
        "trusted": true
      },
      "outputs": [
        {
          "name": "stdout",
          "output_type": "stream",
          "text": [
            "       ID foodId  star                        title  carbohydrates  fat  \\\n",
            "0     502   1330     5  Meat Lover's Breakfast Cups            9.0  5.0   \n",
            "1     735   1330     7  Meat Lover's Breakfast Cups            9.0  5.0   \n",
            "2     420   1330     7  Meat Lover's Breakfast Cups            9.0  5.0   \n",
            "3     680   1330     9  Meat Lover's Breakfast Cups            9.0  5.0   \n",
            "4     504   1330     3  Meat Lover's Breakfast Cups            9.0  5.0   \n",
            "...   ...    ...   ...                          ...            ...  ...   \n",
            "5589  208   1022     3       Better Mashed Potatoes            7.0  2.0   \n",
            "5590  543   1022     8       Better Mashed Potatoes            7.0  2.0   \n",
            "5591  436   1022     7       Better Mashed Potatoes            7.0  2.0   \n",
            "5592  415   1022    10       Better Mashed Potatoes            7.0  2.0   \n",
            "5593  781   1022     6       Better Mashed Potatoes            7.0  2.0   \n",
            "\n",
            "      protein  calories  \n",
            "0         8.0     110.0  \n",
            "1         8.0     110.0  \n",
            "2         8.0     110.0  \n",
            "3         8.0     110.0  \n",
            "4         8.0     110.0  \n",
            "...       ...       ...  \n",
            "5589      2.0      60.0  \n",
            "5590      2.0      60.0  \n",
            "5591      2.0      60.0  \n",
            "5592      2.0      60.0  \n",
            "5593      2.0      60.0  \n",
            "\n",
            "[5594 rows x 8 columns]\n"
          ]
        }
      ],
      "source": [
        "columns_to_drop = ['imageSrc', 'url', 'like', 'dislike']\n",
        "ratings_merged_food = ratings_merged_food.drop(columns_to_drop, axis=1)\n",
        "print(ratings_merged_food)"
      ]
    },
    {
      "cell_type": "code",
      "execution_count": 70,
      "metadata": {
        "trusted": true
      },
      "outputs": [],
      "source": [
        "final_rating=ratings_merged_food\n",
        "pt = final_rating.pivot_table(index='title',columns='ID',values='star')\n",
        "pt.fillna(0,inplace=True)"
      ]
    },
    {
      "cell_type": "code",
      "execution_count": 71,
      "metadata": {
        "trusted": true
      },
      "outputs": [
        {
          "data": {
            "text/html": [
              "<div>\n",
              "<style scoped>\n",
              "    .dataframe tbody tr th:only-of-type {\n",
              "        vertical-align: middle;\n",
              "    }\n",
              "\n",
              "    .dataframe tbody tr th {\n",
              "        vertical-align: top;\n",
              "    }\n",
              "\n",
              "    .dataframe thead th {\n",
              "        text-align: right;\n",
              "    }\n",
              "</style>\n",
              "<table border=\"1\" class=\"dataframe\">\n",
              "  <thead>\n",
              "    <tr style=\"text-align: right;\">\n",
              "      <th>ID</th>\n",
              "      <th>1</th>\n",
              "      <th>2</th>\n",
              "      <th>3</th>\n",
              "      <th>4</th>\n",
              "      <th>5</th>\n",
              "      <th>6</th>\n",
              "      <th>7</th>\n",
              "      <th>8</th>\n",
              "      <th>9</th>\n",
              "      <th>10</th>\n",
              "      <th>...</th>\n",
              "      <th>791</th>\n",
              "      <th>792</th>\n",
              "      <th>793</th>\n",
              "      <th>794</th>\n",
              "      <th>795</th>\n",
              "      <th>796</th>\n",
              "      <th>797</th>\n",
              "      <th>798</th>\n",
              "      <th>799</th>\n",
              "      <th>800</th>\n",
              "    </tr>\n",
              "    <tr>\n",
              "      <th>title</th>\n",
              "      <th></th>\n",
              "      <th></th>\n",
              "      <th></th>\n",
              "      <th></th>\n",
              "      <th></th>\n",
              "      <th></th>\n",
              "      <th></th>\n",
              "      <th></th>\n",
              "      <th></th>\n",
              "      <th></th>\n",
              "      <th></th>\n",
              "      <th></th>\n",
              "      <th></th>\n",
              "      <th></th>\n",
              "      <th></th>\n",
              "      <th></th>\n",
              "      <th></th>\n",
              "      <th></th>\n",
              "      <th></th>\n",
              "      <th></th>\n",
              "      <th></th>\n",
              "    </tr>\n",
              "  </thead>\n",
              "  <tbody>\n",
              "    <tr>\n",
              "      <th>Beef Stroganoff</th>\n",
              "      <td>0.0</td>\n",
              "      <td>7.0</td>\n",
              "      <td>7.0</td>\n",
              "      <td>5.0</td>\n",
              "      <td>0.0</td>\n",
              "      <td>10.0</td>\n",
              "      <td>1.0</td>\n",
              "      <td>4.0</td>\n",
              "      <td>0.0</td>\n",
              "      <td>0.0</td>\n",
              "      <td>...</td>\n",
              "      <td>4.0</td>\n",
              "      <td>0.0</td>\n",
              "      <td>0.0</td>\n",
              "      <td>0.0</td>\n",
              "      <td>0.0</td>\n",
              "      <td>0.0</td>\n",
              "      <td>0.0</td>\n",
              "      <td>5.0</td>\n",
              "      <td>10.0</td>\n",
              "      <td>0.0</td>\n",
              "    </tr>\n",
              "    <tr>\n",
              "      <th>Better Mashed Potatoes</th>\n",
              "      <td>0.0</td>\n",
              "      <td>1.0</td>\n",
              "      <td>4.0</td>\n",
              "      <td>5.0</td>\n",
              "      <td>0.0</td>\n",
              "      <td>0.0</td>\n",
              "      <td>4.0</td>\n",
              "      <td>4.0</td>\n",
              "      <td>0.0</td>\n",
              "      <td>0.0</td>\n",
              "      <td>...</td>\n",
              "      <td>0.0</td>\n",
              "      <td>0.0</td>\n",
              "      <td>0.0</td>\n",
              "      <td>0.0</td>\n",
              "      <td>0.0</td>\n",
              "      <td>0.0</td>\n",
              "      <td>0.0</td>\n",
              "      <td>8.0</td>\n",
              "      <td>7.0</td>\n",
              "      <td>0.0</td>\n",
              "    </tr>\n",
              "    <tr>\n",
              "      <th>Breakfast Quesadilla</th>\n",
              "      <td>2.0</td>\n",
              "      <td>10.0</td>\n",
              "      <td>4.0</td>\n",
              "      <td>10.0</td>\n",
              "      <td>9.0</td>\n",
              "      <td>8.0</td>\n",
              "      <td>10.0</td>\n",
              "      <td>2.0</td>\n",
              "      <td>3.0</td>\n",
              "      <td>4.0</td>\n",
              "      <td>...</td>\n",
              "      <td>1.0</td>\n",
              "      <td>2.0</td>\n",
              "      <td>4.0</td>\n",
              "      <td>10.0</td>\n",
              "      <td>8.0</td>\n",
              "      <td>10.0</td>\n",
              "      <td>2.0</td>\n",
              "      <td>6.0</td>\n",
              "      <td>10.0</td>\n",
              "      <td>8.0</td>\n",
              "    </tr>\n",
              "    <tr>\n",
              "      <th>Empanadas Horneadas de Pollo</th>\n",
              "      <td>7.0</td>\n",
              "      <td>5.0</td>\n",
              "      <td>4.0</td>\n",
              "      <td>10.0</td>\n",
              "      <td>4.0</td>\n",
              "      <td>3.0</td>\n",
              "      <td>2.0</td>\n",
              "      <td>2.0</td>\n",
              "      <td>7.0</td>\n",
              "      <td>5.0</td>\n",
              "      <td>...</td>\n",
              "      <td>5.0</td>\n",
              "      <td>1.0</td>\n",
              "      <td>3.0</td>\n",
              "      <td>2.0</td>\n",
              "      <td>10.0</td>\n",
              "      <td>1.0</td>\n",
              "      <td>2.0</td>\n",
              "      <td>9.0</td>\n",
              "      <td>8.0</td>\n",
              "      <td>8.0</td>\n",
              "    </tr>\n",
              "    <tr>\n",
              "      <th>Low Carb Chicken and Zucchini Casserole</th>\n",
              "      <td>9.0</td>\n",
              "      <td>2.0</td>\n",
              "      <td>7.0</td>\n",
              "      <td>10.0</td>\n",
              "      <td>3.0</td>\n",
              "      <td>6.0</td>\n",
              "      <td>8.0</td>\n",
              "      <td>10.0</td>\n",
              "      <td>4.0</td>\n",
              "      <td>5.0</td>\n",
              "      <td>...</td>\n",
              "      <td>10.0</td>\n",
              "      <td>3.0</td>\n",
              "      <td>1.0</td>\n",
              "      <td>6.0</td>\n",
              "      <td>2.0</td>\n",
              "      <td>1.0</td>\n",
              "      <td>6.0</td>\n",
              "      <td>4.0</td>\n",
              "      <td>4.0</td>\n",
              "      <td>7.0</td>\n",
              "    </tr>\n",
              "    <tr>\n",
              "      <th>Macarrones con Queso y jalapeños</th>\n",
              "      <td>0.0</td>\n",
              "      <td>8.0</td>\n",
              "      <td>9.0</td>\n",
              "      <td>7.0</td>\n",
              "      <td>0.0</td>\n",
              "      <td>0.0</td>\n",
              "      <td>4.0</td>\n",
              "      <td>9.0</td>\n",
              "      <td>0.0</td>\n",
              "      <td>0.0</td>\n",
              "      <td>...</td>\n",
              "      <td>0.0</td>\n",
              "      <td>0.0</td>\n",
              "      <td>0.0</td>\n",
              "      <td>0.0</td>\n",
              "      <td>0.0</td>\n",
              "      <td>0.0</td>\n",
              "      <td>0.0</td>\n",
              "      <td>1.0</td>\n",
              "      <td>2.0</td>\n",
              "      <td>0.0</td>\n",
              "    </tr>\n",
              "    <tr>\n",
              "      <th>Macarrones con queso de coliflor y langosta</th>\n",
              "      <td>6.0</td>\n",
              "      <td>10.0</td>\n",
              "      <td>8.0</td>\n",
              "      <td>8.0</td>\n",
              "      <td>0.0</td>\n",
              "      <td>5.0</td>\n",
              "      <td>5.0</td>\n",
              "      <td>2.0</td>\n",
              "      <td>4.0</td>\n",
              "      <td>10.0</td>\n",
              "      <td>...</td>\n",
              "      <td>8.0</td>\n",
              "      <td>4.0</td>\n",
              "      <td>10.0</td>\n",
              "      <td>0.0</td>\n",
              "      <td>7.0</td>\n",
              "      <td>0.0</td>\n",
              "      <td>0.0</td>\n",
              "      <td>10.0</td>\n",
              "      <td>6.0</td>\n",
              "      <td>4.0</td>\n",
              "    </tr>\n",
              "    <tr>\n",
              "      <th>Meat Lover's Breakfast Cups</th>\n",
              "      <td>8.0</td>\n",
              "      <td>4.0</td>\n",
              "      <td>8.0</td>\n",
              "      <td>9.0</td>\n",
              "      <td>5.0</td>\n",
              "      <td>6.0</td>\n",
              "      <td>5.0</td>\n",
              "      <td>2.0</td>\n",
              "      <td>10.0</td>\n",
              "      <td>9.0</td>\n",
              "      <td>...</td>\n",
              "      <td>10.0</td>\n",
              "      <td>2.0</td>\n",
              "      <td>2.0</td>\n",
              "      <td>10.0</td>\n",
              "      <td>6.0</td>\n",
              "      <td>7.0</td>\n",
              "      <td>5.0</td>\n",
              "      <td>2.0</td>\n",
              "      <td>10.0</td>\n",
              "      <td>2.0</td>\n",
              "    </tr>\n",
              "    <tr>\n",
              "      <th>Simple Chicken Stirfry</th>\n",
              "      <td>7.0</td>\n",
              "      <td>6.0</td>\n",
              "      <td>2.0</td>\n",
              "      <td>4.0</td>\n",
              "      <td>7.0</td>\n",
              "      <td>10.0</td>\n",
              "      <td>5.0</td>\n",
              "      <td>1.0</td>\n",
              "      <td>1.0</td>\n",
              "      <td>3.0</td>\n",
              "      <td>...</td>\n",
              "      <td>8.0</td>\n",
              "      <td>10.0</td>\n",
              "      <td>7.0</td>\n",
              "      <td>1.0</td>\n",
              "      <td>3.0</td>\n",
              "      <td>6.0</td>\n",
              "      <td>1.0</td>\n",
              "      <td>6.0</td>\n",
              "      <td>2.0</td>\n",
              "      <td>8.0</td>\n",
              "    </tr>\n",
              "  </tbody>\n",
              "</table>\n",
              "<p>9 rows × 800 columns</p>\n",
              "</div>"
            ],
            "text/plain": [
              "ID                                           1     2    3     4    5     6    \\\n",
              "title                                                                          \n",
              "Beef Stroganoff                              0.0   7.0  7.0   5.0  0.0  10.0   \n",
              "Better Mashed Potatoes                       0.0   1.0  4.0   5.0  0.0   0.0   \n",
              "Breakfast Quesadilla                         2.0  10.0  4.0  10.0  9.0   8.0   \n",
              "Empanadas Horneadas de Pollo                 7.0   5.0  4.0  10.0  4.0   3.0   \n",
              "Low Carb Chicken and Zucchini Casserole      9.0   2.0  7.0  10.0  3.0   6.0   \n",
              "Macarrones con Queso y jalapeños             0.0   8.0  9.0   7.0  0.0   0.0   \n",
              "Macarrones con queso de coliflor y langosta  6.0  10.0  8.0   8.0  0.0   5.0   \n",
              "Meat Lover's Breakfast Cups                  8.0   4.0  8.0   9.0  5.0   6.0   \n",
              "Simple Chicken Stirfry                       7.0   6.0  2.0   4.0  7.0  10.0   \n",
              "\n",
              "ID                                            7     8     9     10   ...  \\\n",
              "title                                                                ...   \n",
              "Beef Stroganoff                               1.0   4.0   0.0   0.0  ...   \n",
              "Better Mashed Potatoes                        4.0   4.0   0.0   0.0  ...   \n",
              "Breakfast Quesadilla                         10.0   2.0   3.0   4.0  ...   \n",
              "Empanadas Horneadas de Pollo                  2.0   2.0   7.0   5.0  ...   \n",
              "Low Carb Chicken and Zucchini Casserole       8.0  10.0   4.0   5.0  ...   \n",
              "Macarrones con Queso y jalapeños              4.0   9.0   0.0   0.0  ...   \n",
              "Macarrones con queso de coliflor y langosta   5.0   2.0   4.0  10.0  ...   \n",
              "Meat Lover's Breakfast Cups                   5.0   2.0  10.0   9.0  ...   \n",
              "Simple Chicken Stirfry                        5.0   1.0   1.0   3.0  ...   \n",
              "\n",
              "ID                                            791   792   793   794   795  \\\n",
              "title                                                                       \n",
              "Beef Stroganoff                               4.0   0.0   0.0   0.0   0.0   \n",
              "Better Mashed Potatoes                        0.0   0.0   0.0   0.0   0.0   \n",
              "Breakfast Quesadilla                          1.0   2.0   4.0  10.0   8.0   \n",
              "Empanadas Horneadas de Pollo                  5.0   1.0   3.0   2.0  10.0   \n",
              "Low Carb Chicken and Zucchini Casserole      10.0   3.0   1.0   6.0   2.0   \n",
              "Macarrones con Queso y jalapeños              0.0   0.0   0.0   0.0   0.0   \n",
              "Macarrones con queso de coliflor y langosta   8.0   4.0  10.0   0.0   7.0   \n",
              "Meat Lover's Breakfast Cups                  10.0   2.0   2.0  10.0   6.0   \n",
              "Simple Chicken Stirfry                        8.0  10.0   7.0   1.0   3.0   \n",
              "\n",
              "ID                                            796  797   798   799  800  \n",
              "title                                                                    \n",
              "Beef Stroganoff                               0.0  0.0   5.0  10.0  0.0  \n",
              "Better Mashed Potatoes                        0.0  0.0   8.0   7.0  0.0  \n",
              "Breakfast Quesadilla                         10.0  2.0   6.0  10.0  8.0  \n",
              "Empanadas Horneadas de Pollo                  1.0  2.0   9.0   8.0  8.0  \n",
              "Low Carb Chicken and Zucchini Casserole       1.0  6.0   4.0   4.0  7.0  \n",
              "Macarrones con Queso y jalapeños              0.0  0.0   1.0   2.0  0.0  \n",
              "Macarrones con queso de coliflor y langosta   0.0  0.0  10.0   6.0  4.0  \n",
              "Meat Lover's Breakfast Cups                   7.0  5.0   2.0  10.0  2.0  \n",
              "Simple Chicken Stirfry                        6.0  1.0   6.0   2.0  8.0  \n",
              "\n",
              "[9 rows x 800 columns]"
            ]
          },
          "execution_count": 71,
          "metadata": {},
          "output_type": "execute_result"
        }
      ],
      "source": [
        "pt"
      ]
    },
    {
      "cell_type": "code",
      "execution_count": 72,
      "metadata": {
        "trusted": true
      },
      "outputs": [],
      "source": [
        "from sklearn.metrics.pairwise import cosine_similarity"
      ]
    },
    {
      "cell_type": "code",
      "execution_count": 73,
      "metadata": {
        "trusted": true
      },
      "outputs": [],
      "source": [
        "similarity_scores = cosine_similarity(pt)"
      ]
    },
    {
      "cell_type": "code",
      "execution_count": 75,
      "metadata": {
        "trusted": true
      },
      "outputs": [
        {
          "data": {
            "text/plain": [
              "(9, 9)"
            ]
          },
          "execution_count": 75,
          "metadata": {},
          "output_type": "execute_result"
        }
      ],
      "source": [
        "similarity_scores.shape"
      ]
    },
    {
      "cell_type": "code",
      "execution_count": 76,
      "metadata": {
        "trusted": true
      },
      "outputs": [
        {
          "data": {
            "text/plain": [
              "array([[1.        , 0.49600338, 0.60461338, 0.60665991, 0.58548687,\n",
              "        0.6520232 , 0.66104288, 0.59654941, 0.59620309],\n",
              "       [0.49600338, 1.        , 0.34882795, 0.38888599, 0.35750004,\n",
              "        0.57027221, 0.40640701, 0.37297301, 0.35980811],\n",
              "       [0.60461338, 0.34882795, 1.        , 0.77189204, 0.76758548,\n",
              "        0.4950424 , 0.68898693, 0.77934675, 0.77909673],\n",
              "       [0.60665991, 0.38888599, 0.77189204, 1.        , 0.77328341,\n",
              "        0.49663615, 0.69498613, 0.77741364, 0.77625088],\n",
              "       [0.58548687, 0.35750004, 0.76758548, 0.77328341, 1.        ,\n",
              "        0.47975491, 0.67390329, 0.78283205, 0.79280301],\n",
              "       [0.6520232 , 0.57027221, 0.4950424 , 0.49663615, 0.47975491,\n",
              "        1.        , 0.5259099 , 0.48221464, 0.48194994],\n",
              "       [0.66104288, 0.40640701, 0.68898693, 0.69498613, 0.67390329,\n",
              "        0.5259099 , 1.        , 0.67533175, 0.67453817],\n",
              "       [0.59654941, 0.37297301, 0.77934675, 0.77741364, 0.78283205,\n",
              "        0.48221464, 0.67533175, 1.        , 0.78601578],\n",
              "       [0.59620309, 0.35980811, 0.77909673, 0.77625088, 0.79280301,\n",
              "        0.48194994, 0.67453817, 0.78601578, 1.        ]])"
            ]
          },
          "execution_count": 76,
          "metadata": {},
          "output_type": "execute_result"
        }
      ],
      "source": [
        "similarity_scores"
      ]
    },
    {
      "cell_type": "code",
      "execution_count": 89,
      "metadata": {
        "trusted": true
      },
      "outputs": [],
      "source": [
        "def recommend(food_name):\n",
        "    # index fetch\n",
        "    index = np.where(pt.index==food_name)[0][0]\n",
        "    similar_items = sorted(list(enumerate(similarity_scores[index])),key=lambda x:x[1],reverse=True)[1:5]\n",
        "    \n",
        "    data = []\n",
        "    for i in similar_items:\n",
        "        item = []\n",
        "        temp_df = food[food['title'] == pt.index[i[0]]]\n",
        "        item.extend(list(temp_df.drop_duplicates('title')['title'].values))\n",
        "        \n",
        "        data.append(item)\n",
        "    \n",
        "    return data"
      ]
    },
    {
      "cell_type": "code",
      "execution_count": 90,
      "metadata": {
        "trusted": true
      },
      "outputs": [
        {
          "data": {
            "text/plain": [
              "[['Simple Chicken Stirfry'],\n",
              " ['Low Carb Chicken and Zucchini Casserole'],\n",
              " ['Breakfast Quesadilla'],\n",
              " ['Empanadas Horneadas de Pollo']]"
            ]
          },
          "execution_count": 90,
          "metadata": {},
          "output_type": "execute_result"
        }
      ],
      "source": [
        "recommend(\"Meat Lover's Breakfast Cups\")"
      ]
    },
    {
      "cell_type": "code",
      "execution_count": 91,
      "metadata": {
        "trusted": true
      },
      "outputs": [
        {
          "data": {
            "text/plain": [
              "[['Low Carb Chicken and Zucchini Casserole'],\n",
              " [\"Meat Lover's Breakfast Cups\"],\n",
              " ['Breakfast Quesadilla'],\n",
              " ['Empanadas Horneadas de Pollo']]"
            ]
          },
          "execution_count": 91,
          "metadata": {},
          "output_type": "execute_result"
        }
      ],
      "source": [
        "recommend(\"Simple Chicken Stirfry\")"
      ]
    },
    {
      "cell_type": "code",
      "execution_count": null,
      "metadata": {},
      "outputs": [],
      "source": []
    }
  ],
  "metadata": {
    "kernelspec": {
      "display_name": "Python (Pyodide)",
      "language": "python",
      "name": "python"
    },
    "language_info": {
      "codemirror_mode": {
        "name": "python",
        "version": 3
      },
      "file_extension": ".py",
      "mimetype": "text/x-python",
      "name": "python",
      "nbconvert_exporter": "python",
      "pygments_lexer": "ipython3",
      "version": "3.8"
    }
  },
  "nbformat": 4,
  "nbformat_minor": 4
}
