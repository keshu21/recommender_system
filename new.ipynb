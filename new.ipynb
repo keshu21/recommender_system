{
  "cells": [
    {
      "cell_type": "code",
      "execution_count": 3,
      "metadata": {
        "trusted": true
      },
      "outputs": [
        {
          "data": {
            "text/html": [
              "<div>\n",
              "<style scoped>\n",
              "    .dataframe tbody tr th:only-of-type {\n",
              "        vertical-align: middle;\n",
              "    }\n",
              "\n",
              "    .dataframe tbody tr th {\n",
              "        vertical-align: top;\n",
              "    }\n",
              "\n",
              "    .dataframe thead th {\n",
              "        text-align: right;\n",
              "    }\n",
              "</style>\n",
              "<table border=\"1\" class=\"dataframe\">\n",
              "  <thead>\n",
              "    <tr style=\"text-align: right;\">\n",
              "      <th></th>\n",
              "      <th>ID</th>\n",
              "      <th>foodId</th>\n",
              "      <th>star</th>\n",
              "    </tr>\n",
              "  </thead>\n",
              "  <tbody>\n",
              "    <tr>\n",
              "      <th>0</th>\n",
              "      <td>502</td>\n",
              "      <td>2898</td>\n",
              "      <td>1</td>\n",
              "    </tr>\n",
              "    <tr>\n",
              "      <th>1</th>\n",
              "      <td>502</td>\n",
              "      <td>2431</td>\n",
              "      <td>7</td>\n",
              "    </tr>\n",
              "    <tr>\n",
              "      <th>2</th>\n",
              "      <td>502</td>\n",
              "      <td>3181</td>\n",
              "      <td>5</td>\n",
              "    </tr>\n",
              "    <tr>\n",
              "      <th>3</th>\n",
              "      <td>502</td>\n",
              "      <td>3077</td>\n",
              "      <td>9</td>\n",
              "    </tr>\n",
              "    <tr>\n",
              "      <th>4</th>\n",
              "      <td>502</td>\n",
              "      <td>2329</td>\n",
              "      <td>1</td>\n",
              "    </tr>\n",
              "    <tr>\n",
              "      <th>...</th>\n",
              "      <td>...</td>\n",
              "      <td>...</td>\n",
              "      <td>...</td>\n",
              "    </tr>\n",
              "    <tr>\n",
              "      <th>6593</th>\n",
              "      <td>248</td>\n",
              "      <td>1930</td>\n",
              "      <td>5</td>\n",
              "    </tr>\n",
              "    <tr>\n",
              "      <th>6594</th>\n",
              "      <td>248</td>\n",
              "      <td>3208</td>\n",
              "      <td>10</td>\n",
              "    </tr>\n",
              "    <tr>\n",
              "      <th>6595</th>\n",
              "      <td>248</td>\n",
              "      <td>2956</td>\n",
              "      <td>4</td>\n",
              "    </tr>\n",
              "    <tr>\n",
              "      <th>6596</th>\n",
              "      <td>248</td>\n",
              "      <td>3368</td>\n",
              "      <td>1</td>\n",
              "    </tr>\n",
              "    <tr>\n",
              "      <th>6597</th>\n",
              "      <td>248</td>\n",
              "      <td>2907</td>\n",
              "      <td>5</td>\n",
              "    </tr>\n",
              "  </tbody>\n",
              "</table>\n",
              "<p>6598 rows × 3 columns</p>\n",
              "</div>"
            ],
            "text/plain": [
              "       ID  foodId  star\n",
              "0     502    2898     1\n",
              "1     502    2431     7\n",
              "2     502    3181     5\n",
              "3     502    3077     9\n",
              "4     502    2329     1\n",
              "...   ...     ...   ...\n",
              "6593  248    1930     5\n",
              "6594  248    3208    10\n",
              "6595  248    2956     4\n",
              "6596  248    3368     1\n",
              "6597  248    2907     5\n",
              "\n",
              "[6598 rows x 3 columns]"
            ]
          },
          "execution_count": 3,
          "metadata": {},
          "output_type": "execute_result"
        }
      ],
      "source": [
        "import pandas as pd\n",
        "# Read the CSV file into a DataFrame\n",
        "ratings = pd.read_csv('modified_ratings.csv')\n",
        "\n",
        "# Display the resulting DataFrame\n",
        "ratings\n"
      ]
    },
    {
      "cell_type": "code",
      "execution_count": 4,
      "metadata": {
        "trusted": true
      },
      "outputs": [],
      "source": [
        "users = pd.read_csv('Dataset of Diabetes .csv')\n",
        "food = pd.read_csv('food_data_modified.csv')"
      ]
    },
    {
      "cell_type": "code",
      "execution_count": 5,
      "metadata": {
        "trusted": true
      },
      "outputs": [
        {
          "name": "stdout",
          "output_type": "stream",
          "text": [
            "(1000, 14)\n",
            "(6598, 3)\n",
            "(2617, 11)\n"
          ]
        }
      ],
      "source": [
        "print(users.shape)\n",
        "print(ratings.shape)\n",
        "print(food.shape)"
      ]
    },
    {
      "cell_type": "code",
      "execution_count": 6,
      "metadata": {
        "trusted": true
      },
      "outputs": [
        {
          "data": {
            "text/plain": [
              "ID           0\n",
              "No_Pation    0\n",
              "Gender       0\n",
              "AGE          0\n",
              "Urea         0\n",
              "Cr           0\n",
              "HbA1c        0\n",
              "Chol         0\n",
              "TG           0\n",
              "HDL          0\n",
              "LDL          0\n",
              "VLDL         0\n",
              "BMI          0\n",
              "CLASS        0\n",
              "dtype: int64"
            ]
          },
          "execution_count": 6,
          "metadata": {},
          "output_type": "execute_result"
        }
      ],
      "source": [
        "import numpy as np\n",
        "users.isnull().sum()"
      ]
    },
    {
      "cell_type": "code",
      "execution_count": 7,
      "metadata": {
        "trusted": true
      },
      "outputs": [
        {
          "data": {
            "text/plain": [
              "15"
            ]
          },
          "execution_count": 7,
          "metadata": {},
          "output_type": "execute_result"
        }
      ],
      "source": [
        "food.duplicated().sum() "
      ]
    },
    {
      "cell_type": "code",
      "execution_count": 8,
      "metadata": {
        "trusted": true
      },
      "outputs": [
        {
          "data": {
            "text/plain": [
              "0"
            ]
          },
          "execution_count": 8,
          "metadata": {},
          "output_type": "execute_result"
        }
      ],
      "source": [
        "# Drop duplicate rows based on all columns\n",
        "food = food.drop_duplicates()\n",
        "# Display the resulting DataFrame without duplicates\n",
        "food.duplicated().sum()"
      ]
    },
    {
      "cell_type": "code",
      "execution_count": 9,
      "metadata": {
        "trusted": true
      },
      "outputs": [
        {
          "name": "stdout",
          "output_type": "stream",
          "text": [
            "Index(['id', 'title', 'imageSrc', 'url', 'cookTime', 'carbohydrates', 'fat',\n",
            "       'protein', 'calories', 'like', 'dislike'],\n",
            "      dtype='object')\n",
            "Index(['ID', 'foodId', 'star'], dtype='object')\n",
            "Index(['ID', 'No_Pation', 'Gender', 'AGE', 'Urea', 'Cr', 'HbA1c', 'Chol', 'TG',\n",
            "       'HDL', 'LDL', 'VLDL', 'BMI', 'CLASS'],\n",
            "      dtype='object')\n"
          ]
        }
      ],
      "source": [
        "print(food.columns)\n",
        "print(ratings.columns)\n",
        "print(users.columns)"
      ]
    },
    {
      "cell_type": "code",
      "execution_count": 10,
      "metadata": {
        "trusted": true
      },
      "outputs": [
        {
          "data": {
            "text/plain": [
              "Index(['foodId', 'title', 'imageSrc', 'url', 'cookTime', 'carbohydrates',\n",
              "       'fat', 'protein', 'calories', 'like', 'dislike'],\n",
              "      dtype='object')"
            ]
          },
          "execution_count": 10,
          "metadata": {},
          "output_type": "execute_result"
        }
      ],
      "source": [
        "food.rename(columns={'id':'foodId'}, inplace=True)\n",
        "food.columns"
      ]
    },
    {
      "cell_type": "code",
      "execution_count": 14,
      "metadata": {
        "trusted": true
      },
      "outputs": [
        {
          "name": "stdout",
          "output_type": "stream",
          "text": [
            "       ID  foodId  star  No_Pation Gender  AGE  Urea  Cr  HbA1c  Chol   TG  \\\n",
            "0     502    2898     1      17975      F   50   4.7  46    4.9   4.2  0.9   \n",
            "1     502    2431     7      17975      F   50   4.7  46    4.9   4.2  0.9   \n",
            "2     502    3181     5      17975      F   50   4.7  46    4.9   4.2  0.9   \n",
            "3     502    3077     9      17975      F   50   4.7  46    4.9   4.2  0.9   \n",
            "4     502    2329     1      17975      F   50   4.7  46    4.9   4.2  0.9   \n",
            "...   ...     ...   ...        ...    ...  ...   ...  ..    ...   ...  ...   \n",
            "9178  248    1930     5      24054      M   54   5.0  67    6.9   3.8  1.7   \n",
            "9179  248    3208    10      24054      M   54   5.0  67    6.9   3.8  1.7   \n",
            "9180  248    2956     4      24054      M   54   5.0  67    6.9   3.8  1.7   \n",
            "9181  248    3368     1      24054      M   54   5.0  67    6.9   3.8  1.7   \n",
            "9182  248    2907     5      24054      M   54   5.0  67    6.9   3.8  1.7   \n",
            "\n",
            "      HDL  LDL  VLDL   BMI CLASS  \n",
            "0     2.4  1.4   0.5  24.0     N  \n",
            "1     2.4  1.4   0.5  24.0     N  \n",
            "2     2.4  1.4   0.5  24.0     N  \n",
            "3     2.4  1.4   0.5  24.0     N  \n",
            "4     2.4  1.4   0.5  24.0     N  \n",
            "...   ...  ...   ...   ...   ...  \n",
            "9178  1.1  3.0   0.7  33.0    Y   \n",
            "9179  1.1  3.0   0.7  33.0    Y   \n",
            "9180  1.1  3.0   0.7  33.0    Y   \n",
            "9181  1.1  3.0   0.7  33.0    Y   \n",
            "9182  1.1  3.0   0.7  33.0    Y   \n",
            "\n",
            "[9183 rows x 16 columns]\n"
          ]
        }
      ],
      "source": [
        "ratings_merged_user=ratings.merge(users, on='ID')\n",
        "print(ratings_merged_user)"
      ]
    },
    {
      "cell_type": "code",
      "execution_count": 16,
      "metadata": {
        "trusted": true
      },
      "outputs": [
        {
          "data": {
            "text/plain": [
              "Index(['ID', 'foodId', 'star', 'No_Pation', 'Gender', 'AGE', 'Urea', 'Cr',\n",
              "       'HbA1c', 'Chol', 'TG', 'HDL', 'LDL', 'VLDL', 'BMI', 'CLASS'],\n",
              "      dtype='object')"
            ]
          },
          "execution_count": 16,
          "metadata": {},
          "output_type": "execute_result"
        }
      ],
      "source": [
        "ratings_merged_user.columns"
      ]
    },
    {
      "cell_type": "code",
      "execution_count": 20,
      "metadata": {
        "trusted": true
      },
      "outputs": [
        {
          "name": "stdout",
          "output_type": "stream",
          "text": [
            "Users similar to the new user:\n",
            "      ID  No_Pation Gender  AGE  Urea  Cr  HbA1c  Chol    TG  HDL  LDL  VLDL  \\\n",
            "223  750      34244      F   49   2.2  23    4.0   6.6   3.8  1.0  4.1   1.7   \n",
            "667  591      34481      F   61   2.5  45   11.6   9.7  13.8  1.0  3.1   6.3   \n",
            "540  767      34426      M   52  11.0  26    8.3   6.8   3.7  0.9  1.7   1.6   \n",
            "854   13        466      M   55   3.0  30    9.1   6.6   2.9  1.1  4.3   1.3   \n",
            "758  728      34526      F   54   2.2  29   11.8   6.7   2.0  0.9  5.0   0.9   \n",
            "\n",
            "      BMI CLASS  \n",
            "223  23.0     Y  \n",
            "667  33.0     Y  \n",
            "540  29.0     Y  \n",
            "854  29.0     Y  \n",
            "758  33.0     Y  \n"
          ]
        }
      ],
      "source": [
        "from sklearn.metrics.pairwise import cosine_similarity\n",
        "df = pd.DataFrame(users)\n",
        "def find_similar_users(user_data, dataframe, num_similar_users=5):\n",
        "    # Specify the columns for similarity calculation\n",
        "    numerical_cols = ['Urea', 'Cr', 'HbA1c', 'Chol', 'TG', 'HDL', 'LDL', 'VLDL', 'BMI']\n",
        "    user_data_numeric = user_data[numerical_cols].values.reshape(1, -1)\n",
        "    dataframe_numeric = dataframe[numerical_cols]\n",
        "\n",
        "    # Calculate cosine similarity\n",
        "    similarities = cosine_similarity(user_data_numeric, dataframe_numeric)\n",
        "\n",
        "    # Get indices of most similar users\n",
        "    similar_user_indices = similarities.argsort()[0][-num_similar_users-1:-1][::-1]\n",
        "\n",
        "    # Get the most similar users\n",
        "    similar_users = dataframe.iloc[similar_user_indices]\n",
        "\n",
        "    return similar_users\n",
        "\n",
        "# Example: Find users similar to a given user (replace with actual user data)\n",
        "new_user_data = {\n",
        "    'ID': [6],\n",
        "    'No_Pation': [106],\n",
        "    'Gender': ['M'],\n",
        "    'AGE': [33],\n",
        "    'Urea': [28],\n",
        "    'Cr': [1.1],\n",
        "    'HbA1c': [5.6],\n",
        "    'Chol': [190],\n",
        "    'TG': [58],\n",
        "    'HDL': [43],\n",
        "    'LDL': [128],\n",
        "    'VLDL': [11],\n",
        "    'BMI': [26.0],\n",
        "    'CLASS': ['A']\n",
        "}\n",
        "new_user_df = pd.DataFrame(new_user_data)\n",
        "similar_users = find_similar_users(new_user_df, df)\n",
        "print(\"Users similar to the new user:\")\n",
        "print(similar_users)\n"
      ]
    },
    {
      "cell_type": "code",
      "execution_count": 22,
      "metadata": {
        "trusted": true
      },
      "outputs": [
        {
          "name": "stdout",
          "output_type": "stream",
          "text": [
            "Users similar to the new user:\n",
            "      ID  No_Pation Gender  AGE  Urea  Cr  HbA1c  Chol   TG  HDL  LDL  VLDL  \\\n",
            "3    680      87656      F   50   4.7  46    4.9   4.2  0.9  2.4  1.4   0.5   \n",
            "2    420      47975      F   50   4.7  46    4.9   4.2  0.9  2.4  1.4   0.5   \n",
            "140  754      34296      M   49   4.8  46    5.8   4.8  1.1  1.7  2.6   0.5   \n",
            "222  685      34310      F   39   4.2  45    5.0   4.4  1.7  2.8  0.7   0.6   \n",
            "581  330      34448      M   54   6.8  73    7.5   5.1  2.0  1.3  1.4   1.5   \n",
            "\n",
            "      BMI CLASS  \n",
            "3    24.0     N  \n",
            "2    24.0     N  \n",
            "140  24.0     P  \n",
            "222  25.0     Y  \n",
            "581  39.0     Y  \n"
          ]
        }
      ],
      "source": [
        "new_user_data = {\n",
        "    'Urea': [4.7],\n",
        "    'Cr': [46],\n",
        "    'HbA1c': [4.9],\n",
        "    'Chol': [4.2],\n",
        "    'TG': [0.9],\n",
        "    'HDL': [2.4],\n",
        "    'LDL': [1.4],\n",
        "    'VLDL': [0.5],\n",
        "    'BMI': [24],\n",
        "    # 'CLASS': ['A']\n",
        "}\n",
        "new_user_df = pd.DataFrame(new_user_data)\n",
        "similar_users = find_similar_users(new_user_df, df)\n",
        "print(\"Users similar to the new user:\")\n",
        "print(similar_users)"
      ]
    },
    {
      "cell_type": "code",
      "execution_count": null,
      "metadata": {
        "trusted": true
      },
      "outputs": [],
      "source": []
    }
  ],
  "metadata": {
    "kernelspec": {
      "display_name": "Python (Pyodide)",
      "language": "python",
      "name": "python"
    },
    "language_info": {
      "codemirror_mode": {
        "name": "python",
        "version": 3
      },
      "file_extension": ".py",
      "mimetype": "text/x-python",
      "name": "python",
      "nbconvert_exporter": "python",
      "pygments_lexer": "ipython3",
      "version": "3.8"
    }
  },
  "nbformat": 4,
  "nbformat_minor": 4
}
